{
 "cells": [
  {
   "cell_type": "code",
   "execution_count": 1,
   "id": "ab5e87fc-efdb-4cd4-8842-5e0e8eb621fb",
   "metadata": {
    "execution": {
     "iopub.execute_input": "2022-01-31T22:58:48.714642Z",
     "iopub.status.busy": "2022-01-31T22:58:48.714516Z",
     "iopub.status.idle": "2022-01-31T22:58:49.433611Z",
     "shell.execute_reply": "2022-01-31T22:58:49.433134Z",
     "shell.execute_reply.started": "2022-01-31T22:58:48.714603Z"
    },
    "tags": []
   },
   "outputs": [],
   "source": [
    "import psycopg2\n",
    "import pandas as pd\n",
    "import matplotlib.pyplot as plt\n",
    "conn = psycopg2.connect(\"dbname=fleebmarket user=fleebmarket host=localhost\")"
   ]
  },
  {
   "cell_type": "code",
   "execution_count": 96,
   "id": "57c9c34b-69e8-4f56-9f8c-4f14f0966cb9",
   "metadata": {
    "execution": {
     "iopub.execute_input": "2022-01-31T23:47:19.863644Z",
     "iopub.status.busy": "2022-01-31T23:47:19.863470Z",
     "iopub.status.idle": "2022-01-31T23:47:19.866523Z",
     "shell.execute_reply": "2022-01-31T23:47:19.866083Z",
     "shell.execute_reply.started": "2022-01-31T23:47:19.863626Z"
    },
    "tags": []
   },
   "outputs": [],
   "source": [
    "cur = conn.cursor()\n"
   ]
  },
  {
   "cell_type": "code",
   "execution_count": 97,
   "id": "67bfd1fe-a0e9-4d62-a081-da3b00519d70",
   "metadata": {
    "execution": {
     "iopub.execute_input": "2022-01-31T23:47:20.268393Z",
     "iopub.status.busy": "2022-01-31T23:47:20.267854Z",
     "iopub.status.idle": "2022-01-31T23:47:20.419749Z",
     "shell.execute_reply": "2022-01-31T23:47:20.418674Z",
     "shell.execute_reply.started": "2022-01-31T23:47:20.268375Z"
    },
    "tags": []
   },
   "outputs": [],
   "source": [
    "cur.execute(\"SELECT author, c from (select author, count(*) as c from search_app_redditadvert where ad_type = 'Selling' group by author) as T where c > 2;\")\n",
    "data = cur.fetchall()\n"
   ]
  },
  {
   "cell_type": "code",
   "execution_count": 98,
   "id": "3e9350fc-507d-4072-8fcc-c1c572bbd9a5",
   "metadata": {
    "execution": {
     "iopub.execute_input": "2022-01-31T23:47:21.659177Z",
     "iopub.status.busy": "2022-01-31T23:47:21.658783Z",
     "iopub.status.idle": "2022-01-31T23:47:21.670179Z",
     "shell.execute_reply": "2022-01-31T23:47:21.669732Z",
     "shell.execute_reply.started": "2022-01-31T23:47:21.659132Z"
    },
    "tags": []
   },
   "outputs": [
    {
     "data": {
      "text/html": [
       "<div>\n",
       "<style scoped>\n",
       "    .dataframe tbody tr th:only-of-type {\n",
       "        vertical-align: middle;\n",
       "    }\n",
       "\n",
       "    .dataframe tbody tr th {\n",
       "        vertical-align: top;\n",
       "    }\n",
       "\n",
       "    .dataframe thead th {\n",
       "        text-align: right;\n",
       "    }\n",
       "</style>\n",
       "<table border=\"1\" class=\"dataframe\">\n",
       "  <thead>\n",
       "    <tr style=\"text-align: right;\">\n",
       "      <th></th>\n",
       "      <th>author</th>\n",
       "      <th>count</th>\n",
       "    </tr>\n",
       "  </thead>\n",
       "  <tbody>\n",
       "    <tr>\n",
       "      <th>0</th>\n",
       "      <td>captinfapin</td>\n",
       "      <td>6</td>\n",
       "    </tr>\n",
       "    <tr>\n",
       "      <th>1</th>\n",
       "      <td>savageastr0naut</td>\n",
       "      <td>8</td>\n",
       "    </tr>\n",
       "    <tr>\n",
       "      <th>2</th>\n",
       "      <td>faagtfook</td>\n",
       "      <td>3</td>\n",
       "    </tr>\n",
       "    <tr>\n",
       "      <th>3</th>\n",
       "      <td>TieuNgu</td>\n",
       "      <td>8</td>\n",
       "    </tr>\n",
       "    <tr>\n",
       "      <th>4</th>\n",
       "      <td>H3NT4I</td>\n",
       "      <td>3</td>\n",
       "    </tr>\n",
       "    <tr>\n",
       "      <th>...</th>\n",
       "      <td>...</td>\n",
       "      <td>...</td>\n",
       "    </tr>\n",
       "    <tr>\n",
       "      <th>2801</th>\n",
       "      <td>bigislittle</td>\n",
       "      <td>5</td>\n",
       "    </tr>\n",
       "    <tr>\n",
       "      <th>2802</th>\n",
       "      <td>HavocHybrid</td>\n",
       "      <td>8</td>\n",
       "    </tr>\n",
       "    <tr>\n",
       "      <th>2803</th>\n",
       "      <td>jeefixD</td>\n",
       "      <td>3</td>\n",
       "    </tr>\n",
       "    <tr>\n",
       "      <th>2804</th>\n",
       "      <td>domasleo</td>\n",
       "      <td>4</td>\n",
       "    </tr>\n",
       "    <tr>\n",
       "      <th>2805</th>\n",
       "      <td>Hundred_Dollars</td>\n",
       "      <td>4</td>\n",
       "    </tr>\n",
       "  </tbody>\n",
       "</table>\n",
       "<p>2806 rows × 2 columns</p>\n",
       "</div>"
      ],
      "text/plain": [
       "               author  count\n",
       "0         captinfapin      6\n",
       "1     savageastr0naut      8\n",
       "2           faagtfook      3\n",
       "3             TieuNgu      8\n",
       "4              H3NT4I      3\n",
       "...               ...    ...\n",
       "2801      bigislittle      5\n",
       "2802      HavocHybrid      8\n",
       "2803          jeefixD      3\n",
       "2804         domasleo      4\n",
       "2805  Hundred_Dollars      4\n",
       "\n",
       "[2806 rows x 2 columns]"
      ]
     },
     "execution_count": 98,
     "metadata": {},
     "output_type": "execute_result"
    }
   ],
   "source": [
    "authors_df = pd.DataFrame(data, columns=[\"author\", \"count\"])\n",
    "authors_df"
   ]
  },
  {
   "cell_type": "code",
   "execution_count": 100,
   "id": "8dab3966-2c4a-4e14-a159-b91813f88c2b",
   "metadata": {
    "execution": {
     "iopub.execute_input": "2022-01-31T23:47:32.985175Z",
     "iopub.status.busy": "2022-01-31T23:47:32.984786Z",
     "iopub.status.idle": "2022-01-31T23:47:33.533928Z",
     "shell.execute_reply": "2022-01-31T23:47:33.533688Z",
     "shell.execute_reply.started": "2022-01-31T23:47:32.985146Z"
    },
    "tags": []
   },
   "outputs": [
    {
     "data": {
      "text/html": [
       "<div>\n",
       "<style scoped>\n",
       "    .dataframe tbody tr th:only-of-type {\n",
       "        vertical-align: middle;\n",
       "    }\n",
       "\n",
       "    .dataframe tbody tr th {\n",
       "        vertical-align: top;\n",
       "    }\n",
       "\n",
       "    .dataframe thead th {\n",
       "        text-align: right;\n",
       "    }\n",
       "</style>\n",
       "<table border=\"1\" class=\"dataframe\">\n",
       "  <thead>\n",
       "    <tr style=\"text-align: right;\">\n",
       "      <th></th>\n",
       "      <th>author</th>\n",
       "      <th>offers</th>\n",
       "      <th>date</th>\n",
       "      <th>reddit_id</th>\n",
       "    </tr>\n",
       "  </thead>\n",
       "  <tbody>\n",
       "    <tr>\n",
       "      <th>0</th>\n",
       "      <td>CityAtSpeed</td>\n",
       "      <td>JWK Moss Switches, Greetech Browns, Free PBT Islander Fix Kit</td>\n",
       "      <td>2022-01-31 23:43:14+00:00</td>\n",
       "      <td>shg1h2</td>\n",
       "    </tr>\n",
       "    <tr>\n",
       "      <th>1</th>\n",
       "      <td>liceaben</td>\n",
       "      <td>GMK Sloth novelties, S-Craft Artisan</td>\n",
       "      <td>2022-01-31 23:17:09+00:00</td>\n",
       "      <td>shffun</td>\n",
       "    </tr>\n",
       "    <tr>\n",
       "      <th>2</th>\n",
       "      <td>hpfontenot</td>\n",
       "      <td>Fully assembled Mode65, Mode65 PC Back, FR4 Plate for KBD67 Lite, Kiwi switches x140</td>\n",
       "      <td>2022-01-31 22:29:50+00:00</td>\n",
       "      <td>shea4r</td>\n",
       "    </tr>\n",
       "    <tr>\n",
       "      <th>3</th>\n",
       "      <td>PapaD1gg1ty</td>\n",
       "      <td>Ultramarine Fjell, Black Alu KBD67 Lite R2</td>\n",
       "      <td>2022-01-31 22:27:25+00:00</td>\n",
       "      <td>she7vm</td>\n",
       "    </tr>\n",
       "    <tr>\n",
       "      <th>4</th>\n",
       "      <td>Kasiio_</td>\n",
       "      <td>Switches, Lubed, Stock, Tecsee, Cherry, Gateron</td>\n",
       "      <td>2022-01-31 22:21:53+00:00</td>\n",
       "      <td>she30h</td>\n",
       "    </tr>\n",
       "    <tr>\n",
       "      <th>...</th>\n",
       "      <td>...</td>\n",
       "      <td>...</td>\n",
       "      <td>...</td>\n",
       "      <td>...</td>\n",
       "    </tr>\n",
       "    <tr>\n",
       "      <th>18917</th>\n",
       "      <td>fartnaround</td>\n",
       "      <td>KBD fans 5 degree with DZ60rgb hot swappable</td>\n",
       "      <td>2021-05-10 14:35:00+01:00</td>\n",
       "      <td>n94ku2</td>\n",
       "    </tr>\n",
       "    <tr>\n",
       "      <th>18918</th>\n",
       "      <td>oli4731</td>\n",
       "      <td>Tofu WKL Black w/ Koalas L&amp;F</td>\n",
       "      <td>2021-05-10 14:18:04+01:00</td>\n",
       "      <td>n948bp</td>\n",
       "    </tr>\n",
       "    <tr>\n",
       "      <th>18919</th>\n",
       "      <td>ds2465</td>\n",
       "      <td>Grey 7v + Extras</td>\n",
       "      <td>2021-05-10 14:03:46+01:00</td>\n",
       "      <td>n93y07</td>\n",
       "    </tr>\n",
       "    <tr>\n",
       "      <th>18920</th>\n",
       "      <td>siwankim</td>\n",
       "      <td>Maple story Artisan keycaps: White yeti</td>\n",
       "      <td>2021-05-10 13:41:07+01:00</td>\n",
       "      <td>n93hof</td>\n",
       "    </tr>\n",
       "    <tr>\n",
       "      <th>18921</th>\n",
       "      <td>damonskv</td>\n",
       "      <td>Cherry g80-5000HAAGB+5700HAADK, IBM Multistation 5556, CM Novatouch, NEC M-type keyboard</td>\n",
       "      <td>2020-10-21 12:23:28+01:00</td>\n",
       "      <td>qcpkms</td>\n",
       "    </tr>\n",
       "  </tbody>\n",
       "</table>\n",
       "<p>18922 rows × 4 columns</p>\n",
       "</div>"
      ],
      "text/plain": [
       "            author  \\\n",
       "0      CityAtSpeed   \n",
       "1         liceaben   \n",
       "2       hpfontenot   \n",
       "3      PapaD1gg1ty   \n",
       "4          Kasiio_   \n",
       "...            ...   \n",
       "18917  fartnaround   \n",
       "18918      oli4731   \n",
       "18919       ds2465   \n",
       "18920     siwankim   \n",
       "18921     damonskv   \n",
       "\n",
       "                                                                                         offers  \\\n",
       "0                                 JWK Moss Switches, Greetech Browns, Free PBT Islander Fix Kit   \n",
       "1                                                          GMK Sloth novelties, S-Craft Artisan   \n",
       "2          Fully assembled Mode65, Mode65 PC Back, FR4 Plate for KBD67 Lite, Kiwi switches x140   \n",
       "3                                                    Ultramarine Fjell, Black Alu KBD67 Lite R2   \n",
       "4                                               Switches, Lubed, Stock, Tecsee, Cherry, Gateron   \n",
       "...                                                                                         ...   \n",
       "18917                                              KBD fans 5 degree with DZ60rgb hot swappable   \n",
       "18918                                                              Tofu WKL Black w/ Koalas L&F   \n",
       "18919                                                                          Grey 7v + Extras   \n",
       "18920                                                   Maple story Artisan keycaps: White yeti   \n",
       "18921  Cherry g80-5000HAAGB+5700HAADK, IBM Multistation 5556, CM Novatouch, NEC M-type keyboard   \n",
       "\n",
       "                            date reddit_id  \n",
       "0      2022-01-31 23:43:14+00:00    shg1h2  \n",
       "1      2022-01-31 23:17:09+00:00    shffun  \n",
       "2      2022-01-31 22:29:50+00:00    shea4r  \n",
       "3      2022-01-31 22:27:25+00:00    she7vm  \n",
       "4      2022-01-31 22:21:53+00:00    she30h  \n",
       "...                          ...       ...  \n",
       "18917  2021-05-10 14:35:00+01:00    n94ku2  \n",
       "18918  2021-05-10 14:18:04+01:00    n948bp  \n",
       "18919  2021-05-10 14:03:46+01:00    n93y07  \n",
       "18920  2021-05-10 13:41:07+01:00    n93hof  \n",
       "18921  2020-10-21 12:23:28+01:00    qcpkms  \n",
       "\n",
       "[18922 rows x 4 columns]"
      ]
     },
     "execution_count": 100,
     "metadata": {},
     "output_type": "execute_result"
    }
   ],
   "source": [
    "authors_list = ','.join([\n",
    "    f\"'{author}'\" for author in authors_df['author']\n",
    "])\n",
    "cur.execute(f\"SELECT author, extra -> 'offers', created_utc, reddit_id from search_app_redditadvert  where author in ({authors_list}) and ad_type = 'Selling' order by created_utc desc;\")\n",
    "data = cur.fetchall()\n",
    "df = pd.DataFrame(data, columns=['author', 'offers', 'date', 'reddit_id'])\n",
    "df"
   ]
  },
  {
   "cell_type": "code",
   "execution_count": 27,
   "id": "f0fd3e3a-2b72-422e-9433-5703190357e0",
   "metadata": {
    "execution": {
     "iopub.execute_input": "2022-01-31T22:59:26.388187Z",
     "iopub.status.busy": "2022-01-31T22:59:26.388050Z",
     "iopub.status.idle": "2022-01-31T22:59:26.390554Z",
     "shell.execute_reply": "2022-01-31T22:59:26.390126Z",
     "shell.execute_reply.started": "2022-01-31T22:59:26.388171Z"
    }
   },
   "outputs": [],
   "source": [
    "pd.set_option('display.max_colwidth', None)"
   ]
  },
  {
   "cell_type": "code",
   "execution_count": 110,
   "id": "4265339d-b7ed-4624-8f76-e1f74b48d835",
   "metadata": {
    "execution": {
     "iopub.execute_input": "2022-02-01T00:12:27.998324Z",
     "iopub.status.busy": "2022-02-01T00:12:27.997928Z",
     "iopub.status.idle": "2022-02-01T00:12:28.006738Z",
     "shell.execute_reply": "2022-02-01T00:12:28.006299Z",
     "shell.execute_reply.started": "2022-02-01T00:12:27.998279Z"
    },
    "tags": []
   },
   "outputs": [],
   "source": [
    "import re\n",
    "from fuzzywuzzy import fuzz\n",
    "import logging\n",
    "\n",
    "\n",
    "MIN_SIMILAR_GROUPS = 1\n",
    "MIN_SIMILAR_WORDS = 8\n",
    "MIN_FUZZ_SIMILARITY = 90\n",
    "\n",
    "\n",
    "def tokenize_groups(terms):\n",
    "    tokens = re.split(r\",|\\|| / | // \", terms)\n",
    "    return [\n",
    "        token.strip(' ').lower()\n",
    "        for token in tokens\n",
    "        if len(token.strip(' ')) > 0\n",
    "    ]\n",
    "\n",
    "def similar_groups(terms1, terms2):\n",
    "    tokens1 = tokenize_groups(terms1)\n",
    "    tokens2 = tokenize_groups(terms2)\n",
    "    return len(set(tokens1) & set(tokens2))\n",
    "\n",
    "def tokenize_words(terms):\n",
    "    return [\n",
    "        t.lower()\n",
    "        for t in terms.split()\n",
    "        if len(t) > 2\n",
    "    ]\n",
    "\n",
    "def similar_words(terms1, terms2):\n",
    "    tokens1 = tokenize_words(terms1)\n",
    "    tokens2 = tokenize_words(terms2)\n",
    "    return len(set(tokens1) & set(tokens2))\n",
    "\n",
    "\n",
    "def similar_words_debug(terms1, terms2):\n",
    "    tokens1 = tokenize_words(terms1)\n",
    "    tokens2 = tokenize_words(terms2)\n",
    "    return set(tokens1) & set(tokens2)\n",
    "\n",
    "def similar_fuzz(terms1, terms2):\n",
    "    return fuzz.partial_ratio(terms1, terms2)\n"
   ]
  },
  {
   "cell_type": "code",
   "execution_count": 115,
   "id": "6c2716b0-3640-4083-9623-5a60c253b5f5",
   "metadata": {
    "execution": {
     "iopub.execute_input": "2022-02-01T00:13:33.939246Z",
     "iopub.status.busy": "2022-02-01T00:13:33.938962Z",
     "iopub.status.idle": "2022-02-01T00:13:38.408202Z",
     "shell.execute_reply": "2022-02-01T00:13:38.407671Z",
     "shell.execute_reply.started": "2022-02-01T00:13:33.939211Z"
    },
    "tags": []
   },
   "outputs": [
    {
     "data": {
      "text/plain": [
       "{'group': 1378, 'words': 425, 'fuzz': 514}"
      ]
     },
     "execution_count": 115,
     "metadata": {},
     "output_type": "execute_result"
    }
   ],
   "source": [
    "\n",
    "res = {\n",
    "    \"group\": 0,\n",
    "    \"words\": 0,\n",
    "    \"fuzz\" : 0\n",
    "}\n",
    "\n",
    "fuzz_only = []\n",
    "group_only = []\n",
    "words_only = []\n",
    "\n",
    "for i, row in df.head(500).iterrows():\n",
    "    dups_candidates = df[(df['author'] == row['author']) & (df['date'] < row['date'] )]\n",
    "    for i, irow in dups_candidates.iterrows():\n",
    "        is_group = False\n",
    "        is_words = False\n",
    "        is_fuzz = False\n",
    "        if similar_groups(row[\"offers\"], irow[\"offers\"]) >= MIN_SIMILAR_GROUPS:\n",
    "            res[\"group\"] += 1\n",
    "            is_group = True\n",
    "        if similar_words(row[\"offers\"], irow[\"offers\"]) >= MIN_SIMILAR_WORDS:\n",
    "            res['words'] += 1\n",
    "            is_words = True\n",
    "        if similar_fuzz(row[\"offers\"], irow[\"offers\"]) >= MIN_FUZZ_SIMILARITY:\n",
    "            res['fuzz'] += 1\n",
    "            is_fuzz = True\n",
    "        if is_fuzz and not (is_group or is_words):\n",
    "            fuzz_only.append((row[\"offers\"], irow[\"offers\"], row['reddit_id'], irow['reddit_id']))\n",
    "        if is_group and not (is_fuzz or is_words):\n",
    "            group_only.append((row[\"offers\"], irow[\"offers\"]))\n",
    "        if is_words and not (is_fuzz or is_group):\n",
    "            words_only.append((row[\"offers\"], irow[\"offers\"], row['reddit_id'], irow['reddit_id']))\n",
    "res"
   ]
  },
  {
   "cell_type": "code",
   "execution_count": 116,
   "id": "1fbe7524-b570-4827-a556-bc2095d5b364",
   "metadata": {
    "execution": {
     "iopub.execute_input": "2022-02-01T00:13:38.409367Z",
     "iopub.status.busy": "2022-02-01T00:13:38.409214Z",
     "iopub.status.idle": "2022-02-01T00:13:38.413126Z",
     "shell.execute_reply": "2022-02-01T00:13:38.412686Z",
     "shell.execute_reply.started": "2022-02-01T00:13:38.409348Z"
    },
    "tags": []
   },
   "outputs": [
    {
     "data": {
      "text/plain": [
       "(92, 669, 19)"
      ]
     },
     "execution_count": 116,
     "metadata": {},
     "output_type": "execute_result"
    }
   ],
   "source": [
    "\n",
    "len(fuzz_only), \\\n",
    "len(group_only), \\\n",
    "len(words_only)"
   ]
  },
  {
   "cell_type": "code",
   "execution_count": 117,
   "id": "aeb63f9c-15ef-4963-86e5-985f24201cd1",
   "metadata": {
    "execution": {
     "iopub.execute_input": "2022-02-01T00:13:38.414004Z",
     "iopub.status.busy": "2022-02-01T00:13:38.413850Z",
     "iopub.status.idle": "2022-02-01T00:13:38.419659Z",
     "shell.execute_reply": "2022-02-01T00:13:38.419244Z",
     "shell.execute_reply.started": "2022-02-01T00:13:38.413987Z"
    },
    "tags": []
   },
   "outputs": [
    {
     "data": {
      "text/plain": [
       "[('Iron 180 WKL e-white unbuilt, GMK DMG base + spacebar + ZMKC artisan',\n",
       "  'Iron 180 WKL white alum unbuilt, Sam S7.7 ano silver hotswap, GMK DMG base + ZMKC artisan, GMK Boneyard base + 40s kits',\n",
       "  'sgplwi',\n",
       "  's8aos6'),\n",
       " ('Built Dark Grey Meridian Bundled w/ Matching Keycaps + Flemo Cable',\n",
       "  'Built Dark Grey Meridian Bundled w/ Keycaps + Flemo Cable',\n",
       "  'sggvt2',\n",
       "  'sdi874'),\n",
       " ('Rama Thermal kuro WK hotswap built with black ink v2 and durock stabs | Geon Frog Harbor Gray F12 WK H87c mill max | GMK WOB | Drop SA genespeed | modo 2 aesthetic | modo 2 alternate',\n",
       "  'sealed GMK WOB | Rama Thermal kuro winkey beam hotswap | Rama Thermal HHKB kuro hotswap beam | MT3 biip extended 2048 alpha+mod+accent mod | MT3 dev/tty | Geon F1-8x red | MODO L aesthetic sealed',\n",
       "  'sgd4xw',\n",
       "  's4ubkd'),\n",
       " ('SodieCaps Death Wish Pilgrim , Cysm pink Keyby metal keycap bundle',\n",
       "  'MONOKEI x CYSM bundle keyby artisan keycap , Nightcaps Bombking , Death wish pilgrim sodiecaps',\n",
       "  'sfxo72',\n",
       "  'sdotsz'),\n",
       " ('Ansi Novatouch with og bke domes, Zenith ZKB-2 with PBT caps from 163-73 and SKCM Blues, Goupil(cherry) g81-3061haf, NEC pc-9801-98-s02',\n",
       "  'Ascii Askeyboard sono1(skcm browns)+sono2(skcm ambers), Zenith ZKB-2 with pbt caps from Zenith 163-73 and skcm blues, NOS Wang 725 skcm oranges',\n",
       "  'sfh50t',\n",
       "  'qud9ev'),\n",
       " ('Ansi Novatouch with og bke domes, Zenith ZKB-2 with PBT caps from 163-73 and SKCM Blues, Goupil(cherry) g81-3061haf, NEC pc-9801-98-s02',\n",
       "  'Ascii Askeyboard sono1(skcm browns)+sono2(skcm ambers), Zenith ZKB-2 with pbt caps from Zenith 163-73 and skcm blues, NOS Wang 725 skcm oranges',\n",
       "  'sfh50t',\n",
       "  'qs71qv'),\n",
       " ('(At cost) E7-V2 + Extra Brass Backplate & Logo; GitD Nightcall, Solaris switches, Lumen Stabs; Artisans; PBT Keycap Set',\n",
       "  'E7-V2 with Extra Brass Logo and Backplate, KBD75V2, MT3 /Dev/tty Ortho/Ergo Kit, GitD Nightcall switches, GID Solaris switches, & GID Lumen Stabs, Artisans, PBT Keycap Set',\n",
       "  'sf947i',\n",
       "  'rje6ey'),\n",
       " ('ai03 Vega 65 blue, ai03 Meridian E-white, Candybar Lefty R2 cerakoted pink, jtk zen base + white spacebars + black spacebars, Geekark 9009 BoW accent bundle (cheap)',\n",
       "  'GMK Bingsu base + spacebars, GMK Mecha-01 base + 40s, GMK Boneyard base + 40s, GMK Future Funk base, JTK Zen green extension, TKC CandyBar Lefty R2, Geekark 9009 lord of the rings + starwars alphas',\n",
       "  'sf7r11',\n",
       "  'rxwzp6'),\n",
       " ('Keychron Q1 w/ custom mechcables aviator cable/ Akko Neon Laser Keycaps, Built KBD67 Lite R2 with Akko Green/ Shark PBT Keycaps',\n",
       "  'Built KBD67 Lite with PBT Taro, Keyspresso RBG hotswap numpad, Mechcables purple coiled aviator cable, tai hao dark tunnel keycaps',\n",
       "  'sf0b6y',\n",
       "  'prket7'),\n",
       " ('Iron 180 WKL e-white unbuilt, GMK DMG base + spacebar + ZMKC artisan',\n",
       "  'Iron 180 WKL white alum unbuilt, Sam S7.7 ano silver hotswap, GMK DMG base + ZMKC artisan, GMK Boneyard base + 40s kits',\n",
       "  'se06v8',\n",
       "  's8aos6'),\n",
       " ('MONOKEI x CYSM bundle keyby artisan keycap , Nightcaps Bombking , Death wish pilgrim sodiecaps',\n",
       "  'Rama shanshui shui , Nightcaps etf White gold tower Bombking , Sodiecaps Death Wish Pilgrim , artisan keycap',\n",
       "  'sdotsz',\n",
       "  'salfe1'),\n",
       " ('jtk zen base + white spacebars + black spacebars, spare switches (obsidian, mx cream, alpaca, sprit springs), muted accent keycaps, geekark 9009 lord of the rings alphas',\n",
       "  'GMK Bingsu base + spacebars, GMK Mecha-01 base + 40s, GMK Boneyard base + 40s, GMK Future Funk base, JTK Zen green extension, TKC CandyBar Lefty R2, Geekark 9009 lord of the rings + starwars alphas',\n",
       "  'sdnfk3',\n",
       "  'rxwzp6'),\n",
       " ('New Built Monstargear XO K80 Alu TKL with Lubed & Filmed Banana Split Switches, Durock V2 Stabs, Extra FR4 Plate and K80 Gasket Kit, Mr. Suit Artisan',\n",
       "  'New Built Monstargear XO K80 Alu with Lubed & Filmed Banana Split Switches Durock V2 Stabs, Extra FR4 Plate, K80 Gasket Kit and Tai Hao ISO-DE Grey & Black Keycap Set',\n",
       "  'sdlh87',\n",
       "  'rkp9aw'),\n",
       " ('Monokei x CYSM Keyby, Jelly Key Zen Pond 3 Spacebars, Hello Caps Inverted Bongo',\n",
       "  'Brass E-White Iron180, Jelly Key Zen Pond 3 7u Spacebars, Milk Keycaps, Hello Caps Inverted Bongo Cat',\n",
       "  'sdfnfa',\n",
       "  'ripo5u'),\n",
       " ('Monokei x CYSM Keyby, Jelly Key Zen Pond 3 Spacebars, Hello Caps Inverted Bongo',\n",
       "  'Brass E-White Iron180, Jelly Key Zen Pond 3 7u Spacebars, Milk Keycaps, Hello Caps Inverted Bongo Cat',\n",
       "  'sdfnfa',\n",
       "  'rd2hbi'),\n",
       " ('Monokei x CYSM Keyby, Jelly Key Zen Pond 3 Spacebars, Hello Caps Inverted Bongo',\n",
       "  'Brass E-White Iron180, Jelly Key Zen Pond 3 7u Spacebars, Milk Keycaps, Hello Caps Inverted Bongo Cat',\n",
       "  'sdfnfa',\n",
       "  'r8af3r'),\n",
       " ('Monokei x CYSM Keyby, Jelly Key Zen Pond 3 Spacebars, Hello Caps Inverted Bongo',\n",
       "  'Brass E-White Iron180, Jelly Key Zen Pond 3 7u Spacebars, Migi Caps, Milk Keycaps, Hello Caps Inverted Bongo Cat',\n",
       "  'sdfnfa',\n",
       "  'r5fuie'),\n",
       " ('Monokei x CYSM Keyby, Jelly Key Zen Pond 3 Spacebars, Hello Caps Inverted Bongo',\n",
       "  'Jelly Key Zen Pond 3 7u Spacebars, Migi Caps, Milk Keycaps, Hello Caps Inverted Bongo Cat',\n",
       "  'sdfnfa',\n",
       "  'r27sbp'),\n",
       " ('Keychron Q1 w/ custom mechcables aviator cable/ Akko Neon Laser Keycaps, Built KBD67 Lite R2 with Akko Green/ Shark PBT Keycaps',\n",
       "  'Built KBD67 Lite with PBT Taro, Keyspresso RBG hotswap numpad, Mechcables purple coiled aviator cable, tai hao dark tunnel keycaps',\n",
       "  'sdeswg',\n",
       "  'prket7')]"
      ]
     },
     "execution_count": 117,
     "metadata": {},
     "output_type": "execute_result"
    }
   ],
   "source": [
    "words_only"
   ]
  },
  {
   "cell_type": "code",
   "execution_count": 109,
   "id": "737acd85-a1ea-4b32-99b3-bba63d14bcd0",
   "metadata": {
    "execution": {
     "iopub.execute_input": "2022-02-01T00:10:29.721627Z",
     "iopub.status.busy": "2022-02-01T00:10:29.721494Z",
     "iopub.status.idle": "2022-02-01T00:10:29.724519Z",
     "shell.execute_reply": "2022-02-01T00:10:29.724247Z",
     "shell.execute_reply.started": "2022-02-01T00:10:29.721614Z"
    },
    "tags": []
   },
   "outputs": [
    {
     "data": {
      "text/plain": [
       "0"
      ]
     },
     "execution_count": 109,
     "metadata": {},
     "output_type": "execute_result"
    }
   ],
   "source": [
    "similar_groups('Ansi Novatouch with og bke domes, Zenith ZKB-2 with PBT caps from 163-73 and SKCM Blues, Goupil(cherry) g81-3061haf, NEC pc-9801-98-s02',\n",
    "  'Ascii Askeyboard sono1(skcm browns)+sono2(skcm ambers), Zenith ZKB-2 with pbt caps from Zenith 163-73 and skcm blues, NOS Wang 725 skcm oranges')"
   ]
  },
  {
   "cell_type": "code",
   "execution_count": 118,
   "id": "a48ca4ae-629b-4102-a005-4faf353fec18",
   "metadata": {
    "execution": {
     "iopub.execute_input": "2022-02-01T00:13:51.715521Z",
     "iopub.status.busy": "2022-02-01T00:13:51.715323Z",
     "iopub.status.idle": "2022-02-01T00:13:51.719134Z",
     "shell.execute_reply": "2022-02-01T00:13:51.718763Z",
     "shell.execute_reply.started": "2022-02-01T00:13:51.715504Z"
    },
    "tags": []
   },
   "outputs": [
    {
     "data": {
      "text/plain": [
       "{'aviator', 'built', 'kbd67', 'keycaps', 'lite', 'mechcables', 'pbt', 'with'}"
      ]
     },
     "execution_count": 118,
     "metadata": {},
     "output_type": "execute_result"
    }
   ],
   "source": [
    "similar_words_debug('Keychron Q1 w/ custom mechcables aviator cable/ Akko Neon Laser Keycaps, Built KBD67 Lite R2 with Akko Green/ Shark PBT Keycaps',\n",
    "  'Built KBD67 Lite with PBT Taro, Keyspresso RBG hotswap numpad, Mechcables purple coiled aviator cable, tai hao dark tunnel keycaps')"
   ]
  },
  {
   "cell_type": "code",
   "execution_count": null,
   "id": "5e8047aa-f274-4aec-8990-7c0a64e2046f",
   "metadata": {},
   "outputs": [],
   "source": [
    "Zenith ZKB-2 with PBT caps from 163-73 and SKCM Blues\n",
    "Zenith ZKB-2 with pbt caps from Zenith 163-73 and skcm blues"
   ]
  }
 ],
 "metadata": {
  "kernelspec": {
   "display_name": "Python 3 (ipykernel)",
   "language": "python",
   "name": "python3"
  },
  "language_info": {
   "codemirror_mode": {
    "name": "ipython",
    "version": 3
   },
   "file_extension": ".py",
   "mimetype": "text/x-python",
   "name": "python",
   "nbconvert_exporter": "python",
   "pygments_lexer": "ipython3",
   "version": "3.10.1"
  }
 },
 "nbformat": 4,
 "nbformat_minor": 5
}

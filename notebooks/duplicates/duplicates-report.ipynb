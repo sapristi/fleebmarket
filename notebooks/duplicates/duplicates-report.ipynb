{
 "cells": [
  {
   "cell_type": "code",
   "execution_count": 1,
   "id": "ab5e87fc-efdb-4cd4-8842-5e0e8eb621fb",
   "metadata": {
    "execution": {
     "iopub.execute_input": "2022-02-01T17:59:34.249657Z",
     "iopub.status.busy": "2022-02-01T17:59:34.249184Z",
     "iopub.status.idle": "2022-02-01T17:59:35.328251Z",
     "shell.execute_reply": "2022-02-01T17:59:35.327844Z",
     "shell.execute_reply.started": "2022-02-01T17:59:34.249512Z"
    },
    "tags": []
   },
   "outputs": [],
   "source": [
    "import psycopg2\n",
    "import pandas as pd\n",
    "import matplotlib.pyplot as plt\n",
    "from datetime import datetime\n",
    "import numpy as np\n",
    "conn = psycopg2.connect(\"dbname=fleebmarket user=fleebmarket host=localhost\")\n"
   ]
  },
  {
   "cell_type": "code",
   "execution_count": 2,
   "id": "57c9c34b-69e8-4f56-9f8c-4f14f0966cb9",
   "metadata": {
    "execution": {
     "iopub.execute_input": "2022-02-01T17:59:35.329054Z",
     "iopub.status.busy": "2022-02-01T17:59:35.328935Z",
     "iopub.status.idle": "2022-02-01T17:59:35.331798Z",
     "shell.execute_reply": "2022-02-01T17:59:35.331384Z",
     "shell.execute_reply.started": "2022-02-01T17:59:35.329039Z"
    },
    "tags": []
   },
   "outputs": [],
   "source": [
    "cur = conn.cursor()\n"
   ]
  },
  {
   "cell_type": "code",
   "execution_count": 3,
   "id": "eb48f1ad-3943-46f4-8757-1c0978d3382b",
   "metadata": {
    "execution": {
     "iopub.execute_input": "2022-02-01T17:59:35.332727Z",
     "iopub.status.busy": "2022-02-01T17:59:35.332525Z",
     "iopub.status.idle": "2022-02-01T17:59:35.680444Z",
     "shell.execute_reply": "2022-02-01T17:59:35.679946Z",
     "shell.execute_reply.started": "2022-02-01T17:59:35.332708Z"
    },
    "tags": []
   },
   "outputs": [],
   "source": [
    "cur.execute(\"SELECT count(*) as c, author, is_duplicate from search_app_redditadvert where ad_type in ('Selling', 'Sold', 'Buying', 'Purchased') group by author, is_duplicate;\")\n",
    "data = cur.fetchall()"
   ]
  },
  {
   "cell_type": "code",
   "execution_count": 4,
   "id": "04ffe732-1d76-4bb6-9ed9-6941c6d8d96c",
   "metadata": {
    "execution": {
     "iopub.execute_input": "2022-02-01T17:59:35.681764Z",
     "iopub.status.busy": "2022-02-01T17:59:35.681637Z",
     "iopub.status.idle": "2022-02-01T17:59:36.144283Z",
     "shell.execute_reply": "2022-02-01T17:59:36.143619Z",
     "shell.execute_reply.started": "2022-02-01T17:59:35.681749Z"
    },
    "tags": []
   },
   "outputs": [
    {
     "data": {
      "text/plain": [
       "49164"
      ]
     },
     "execution_count": 4,
     "metadata": {},
     "output_type": "execute_result"
    }
   ],
   "source": [
    "cur.execute(\"SELECT author, is_duplicate, created_utc, ad_type from search_app_redditadvert where ad_type in ('Selling', 'Sold', 'Buying', 'Purchased') ;\")\n",
    "data = cur.fetchall()\n",
    "len(data)"
   ]
  },
  {
   "cell_type": "code",
   "execution_count": 5,
   "id": "0366683b-1c8f-456b-9fad-0263daa22f1c",
   "metadata": {
    "execution": {
     "iopub.execute_input": "2022-02-01T17:59:36.145431Z",
     "iopub.status.busy": "2022-02-01T17:59:36.145212Z",
     "iopub.status.idle": "2022-02-01T17:59:36.533542Z",
     "shell.execute_reply": "2022-02-01T17:59:36.532938Z",
     "shell.execute_reply.started": "2022-02-01T17:59:36.145401Z"
    },
    "tags": []
   },
   "outputs": [
    {
     "data": {
      "text/html": [
       "<div>\n",
       "<style scoped>\n",
       "    .dataframe tbody tr th:only-of-type {\n",
       "        vertical-align: middle;\n",
       "    }\n",
       "\n",
       "    .dataframe tbody tr th {\n",
       "        vertical-align: top;\n",
       "    }\n",
       "\n",
       "    .dataframe thead th {\n",
       "        text-align: right;\n",
       "    }\n",
       "</style>\n",
       "<table border=\"1\" class=\"dataframe\">\n",
       "  <thead>\n",
       "    <tr style=\"text-align: right;\">\n",
       "      <th></th>\n",
       "      <th>author</th>\n",
       "      <th>is_duplicate</th>\n",
       "      <th>created_utc</th>\n",
       "      <th>ad_type</th>\n",
       "      <th>date</th>\n",
       "    </tr>\n",
       "  </thead>\n",
       "  <tbody>\n",
       "    <tr>\n",
       "      <th>0</th>\n",
       "      <td>n00basaur</td>\n",
       "      <td>True</td>\n",
       "      <td>2021-05-16 21:22:38+00:00</td>\n",
       "      <td>Selling</td>\n",
       "      <td>2021-05-16</td>\n",
       "    </tr>\n",
       "    <tr>\n",
       "      <th>1</th>\n",
       "      <td>cookoojeffy</td>\n",
       "      <td>True</td>\n",
       "      <td>2021-08-25 21:42:34+00:00</td>\n",
       "      <td>Selling</td>\n",
       "      <td>2021-08-25</td>\n",
       "    </tr>\n",
       "    <tr>\n",
       "      <th>2</th>\n",
       "      <td>dxevin12</td>\n",
       "      <td>True</td>\n",
       "      <td>2021-06-21 21:48:35+00:00</td>\n",
       "      <td>Selling</td>\n",
       "      <td>2021-06-21</td>\n",
       "    </tr>\n",
       "    <tr>\n",
       "      <th>3</th>\n",
       "      <td>RyuDragoon</td>\n",
       "      <td>False</td>\n",
       "      <td>2021-12-12 15:33:36+00:00</td>\n",
       "      <td>Selling</td>\n",
       "      <td>2021-12-12</td>\n",
       "    </tr>\n",
       "    <tr>\n",
       "      <th>4</th>\n",
       "      <td>digitalxrt</td>\n",
       "      <td>True</td>\n",
       "      <td>2021-11-14 18:27:53+00:00</td>\n",
       "      <td>Selling</td>\n",
       "      <td>2021-11-14</td>\n",
       "    </tr>\n",
       "    <tr>\n",
       "      <th>...</th>\n",
       "      <td>...</td>\n",
       "      <td>...</td>\n",
       "      <td>...</td>\n",
       "      <td>...</td>\n",
       "      <td>...</td>\n",
       "    </tr>\n",
       "    <tr>\n",
       "      <th>49159</th>\n",
       "      <td>michaelengel</td>\n",
       "      <td>True</td>\n",
       "      <td>2022-01-20 03:10:58+00:00</td>\n",
       "      <td>Selling</td>\n",
       "      <td>2022-01-20</td>\n",
       "    </tr>\n",
       "    <tr>\n",
       "      <th>49160</th>\n",
       "      <td>michaelengel</td>\n",
       "      <td>True</td>\n",
       "      <td>2022-01-11 18:27:06+00:00</td>\n",
       "      <td>Selling</td>\n",
       "      <td>2022-01-11</td>\n",
       "    </tr>\n",
       "    <tr>\n",
       "      <th>49161</th>\n",
       "      <td>michaelengel</td>\n",
       "      <td>True</td>\n",
       "      <td>2022-01-07 03:03:45+00:00</td>\n",
       "      <td>Selling</td>\n",
       "      <td>2022-01-07</td>\n",
       "    </tr>\n",
       "    <tr>\n",
       "      <th>49162</th>\n",
       "      <td>michaelengel</td>\n",
       "      <td>True</td>\n",
       "      <td>2022-01-02 06:06:57+00:00</td>\n",
       "      <td>Selling</td>\n",
       "      <td>2022-01-02</td>\n",
       "    </tr>\n",
       "    <tr>\n",
       "      <th>49163</th>\n",
       "      <td>mlaggers13</td>\n",
       "      <td>True</td>\n",
       "      <td>2021-09-15 22:57:27+00:00</td>\n",
       "      <td>Selling</td>\n",
       "      <td>2021-09-15</td>\n",
       "    </tr>\n",
       "  </tbody>\n",
       "</table>\n",
       "<p>49163 rows × 5 columns</p>\n",
       "</div>"
      ],
      "text/plain": [
       "             author  is_duplicate               created_utc  ad_type  \\\n",
       "0         n00basaur          True 2021-05-16 21:22:38+00:00  Selling   \n",
       "1       cookoojeffy          True 2021-08-25 21:42:34+00:00  Selling   \n",
       "2          dxevin12          True 2021-06-21 21:48:35+00:00  Selling   \n",
       "3        RyuDragoon         False 2021-12-12 15:33:36+00:00  Selling   \n",
       "4        digitalxrt          True 2021-11-14 18:27:53+00:00  Selling   \n",
       "...             ...           ...                       ...      ...   \n",
       "49159  michaelengel          True 2022-01-20 03:10:58+00:00  Selling   \n",
       "49160  michaelengel          True 2022-01-11 18:27:06+00:00  Selling   \n",
       "49161  michaelengel          True 2022-01-07 03:03:45+00:00  Selling   \n",
       "49162  michaelengel          True 2022-01-02 06:06:57+00:00  Selling   \n",
       "49163    mlaggers13          True 2021-09-15 22:57:27+00:00  Selling   \n",
       "\n",
       "             date  \n",
       "0      2021-05-16  \n",
       "1      2021-08-25  \n",
       "2      2021-06-21  \n",
       "3      2021-12-12  \n",
       "4      2021-11-14  \n",
       "...           ...  \n",
       "49159  2022-01-20  \n",
       "49160  2022-01-11  \n",
       "49161  2022-01-07  \n",
       "49162  2022-01-02  \n",
       "49163  2021-09-15  \n",
       "\n",
       "[49163 rows x 5 columns]"
      ]
     },
     "execution_count": 5,
     "metadata": {},
     "output_type": "execute_result"
    }
   ],
   "source": [
    "df = pd.DataFrame(data, columns=[\"author\", \"is_duplicate\", \"created_utc\", \"ad_type\"])\n",
    "df[\"created_utc\"] = pd.to_datetime(df[\"created_utc\"], utc=True)\n",
    "df[\"date\"] = df[\"created_utc\"].apply(lambda d: d.date())\n",
    "df = df[df[\"date\"] > np.datetime64('2021-05-01')]\n",
    "df"
   ]
  },
  {
   "cell_type": "code",
   "execution_count": 6,
   "id": "e4b29d1a-4aed-4d40-b889-d9a87e9f3925",
   "metadata": {
    "execution": {
     "iopub.execute_input": "2022-02-01T17:59:36.534567Z",
     "iopub.status.busy": "2022-02-01T17:59:36.534379Z",
     "iopub.status.idle": "2022-02-01T17:59:36.542958Z",
     "shell.execute_reply": "2022-02-01T17:59:36.542469Z",
     "shell.execute_reply.started": "2022-02-01T17:59:36.534542Z"
    },
    "tags": []
   },
   "outputs": [
    {
     "data": {
      "text/plain": [
       "{'Buying', 'Purchased', 'Selling', 'Sold'}"
      ]
     },
     "execution_count": 6,
     "metadata": {},
     "output_type": "execute_result"
    }
   ],
   "source": [
    "set(df[\"ad_type\"])"
   ]
  },
  {
   "cell_type": "code",
   "execution_count": 7,
   "id": "2e6cef24-1d89-4170-975e-6809954503bc",
   "metadata": {
    "execution": {
     "iopub.execute_input": "2022-02-01T17:59:36.544097Z",
     "iopub.status.busy": "2022-02-01T17:59:36.543891Z",
     "iopub.status.idle": "2022-02-01T17:59:36.774301Z",
     "shell.execute_reply": "2022-02-01T17:59:36.773685Z",
     "shell.execute_reply.started": "2022-02-01T17:59:36.544072Z"
    },
    "tags": []
   },
   "outputs": [
    {
     "data": {
      "image/png": "[encoded data removed]",
      "text/plain": [
       "<Figure size 1440x360 with 1 Axes>"
      ]
     },
     "metadata": {
      "needs_background": "light"
     },
     "output_type": "display_data"
    }
   ],
   "source": [
    "ax = df.hist(column=\"created_utc\", bins=60, figsize=(20, 5))"
   ]
  },
  {
   "cell_type": "code",
   "execution_count": 23,
   "id": "8c08043a-fe12-497b-8fdd-1c27d9f7dfb5",
   "metadata": {
    "execution": {
     "iopub.execute_input": "2022-02-01T18:30:09.164583Z",
     "iopub.status.busy": "2022-02-01T18:30:09.164250Z",
     "iopub.status.idle": "2022-02-01T18:30:10.522388Z",
     "shell.execute_reply": "2022-02-01T18:30:10.521897Z",
     "shell.execute_reply.started": "2022-02-01T18:30:09.164547Z"
    },
    "tags": []
   },
   "outputs": [
    {
     "data": {
      "image/png": "[encoded data removed]",
      "text/plain": [
       "<Figure size 1440x360 with 1 Axes>"
      ]
     },
     "metadata": {
      "needs_background": "light"
     },
     "output_type": "display_data"
    }
   ],
   "source": [
    "fig, ax = plt.subplots(figsize=(20,5))\n",
    "ad_types = [ \"Selling\", \"Sold\", \"Buying\", \"Purchased\"]\n",
    "ax.hist(\n",
    "    [\n",
    "        df[df[\"ad_type\"] == ad_type]['created_utc']\n",
    "        for ad_type in ad_types\n",
    "    ],\n",
    "    bins=60,\n",
    "    stacked=True,\n",
    "    label=ad_types\n",
    ")\n",
    "plt.legend()\n",
    "plt.savefig(\"histogram_by_type.png\", pad_inches=0, bbox_inches='tight')"
   ]
  },
  {
   "cell_type": "code",
   "execution_count": 9,
   "id": "b51bab8e-7354-400b-88d8-8cbf7556e7d5",
   "metadata": {
    "execution": {
     "iopub.execute_input": "2022-02-01T17:59:37.691358Z",
     "iopub.status.busy": "2022-02-01T17:59:37.691227Z",
     "iopub.status.idle": "2022-02-01T17:59:37.711260Z",
     "shell.execute_reply": "2022-02-01T17:59:37.710821Z",
     "shell.execute_reply.started": "2022-02-01T17:59:37.691341Z"
    },
    "tags": []
   },
   "outputs": [
    {
     "data": {
      "text/html": [
       "<div>\n",
       "<style scoped>\n",
       "    .dataframe tbody tr th:only-of-type {\n",
       "        vertical-align: middle;\n",
       "    }\n",
       "\n",
       "    .dataframe tbody tr th {\n",
       "        vertical-align: top;\n",
       "    }\n",
       "\n",
       "    .dataframe thead th {\n",
       "        text-align: right;\n",
       "    }\n",
       "</style>\n",
       "<table border=\"1\" class=\"dataframe\">\n",
       "  <thead>\n",
       "    <tr style=\"text-align: right;\">\n",
       "      <th></th>\n",
       "      <th>author</th>\n",
       "      <th>is_duplicate</th>\n",
       "      <th>created_utc</th>\n",
       "      <th>date</th>\n",
       "    </tr>\n",
       "    <tr>\n",
       "      <th>ad_type</th>\n",
       "      <th></th>\n",
       "      <th></th>\n",
       "      <th></th>\n",
       "      <th></th>\n",
       "    </tr>\n",
       "  </thead>\n",
       "  <tbody>\n",
       "    <tr>\n",
       "      <th>Buying</th>\n",
       "      <td>15157</td>\n",
       "      <td>15157</td>\n",
       "      <td>15157</td>\n",
       "      <td>15157</td>\n",
       "    </tr>\n",
       "    <tr>\n",
       "      <th>Purchased</th>\n",
       "      <td>1189</td>\n",
       "      <td>1189</td>\n",
       "      <td>1189</td>\n",
       "      <td>1189</td>\n",
       "    </tr>\n",
       "    <tr>\n",
       "      <th>Selling</th>\n",
       "      <td>26549</td>\n",
       "      <td>26549</td>\n",
       "      <td>26549</td>\n",
       "      <td>26549</td>\n",
       "    </tr>\n",
       "    <tr>\n",
       "      <th>Sold</th>\n",
       "      <td>6268</td>\n",
       "      <td>6268</td>\n",
       "      <td>6268</td>\n",
       "      <td>6268</td>\n",
       "    </tr>\n",
       "  </tbody>\n",
       "</table>\n",
       "</div>"
      ],
      "text/plain": [
       "           author  is_duplicate  created_utc   date\n",
       "ad_type                                            \n",
       "Buying      15157         15157        15157  15157\n",
       "Purchased    1189          1189         1189   1189\n",
       "Selling     26549         26549        26549  26549\n",
       "Sold         6268          6268         6268   6268"
      ]
     },
     "execution_count": 9,
     "metadata": {},
     "output_type": "execute_result"
    }
   ],
   "source": [
    "df.groupby('ad_type').count()"
   ]
  },
  {
   "cell_type": "code",
   "execution_count": 31,
   "id": "138e9214-e198-4d04-b2ca-b385b83bc882",
   "metadata": {
    "execution": {
     "iopub.execute_input": "2022-02-01T18:34:38.992564Z",
     "iopub.status.busy": "2022-02-01T18:34:38.992229Z",
     "iopub.status.idle": "2022-02-01T18:34:39.262710Z",
     "shell.execute_reply": "2022-02-01T18:34:39.262082Z",
     "shell.execute_reply.started": "2022-02-01T18:34:38.992526Z"
    },
    "tags": []
   },
   "outputs": [
    {
     "data": {
      "image/png": "[encoded data removed]",
      "text/plain": [
       "<Figure size 576x576 with 1 Axes>"
      ]
     },
     "metadata": {},
     "output_type": "display_data"
    }
   ],
   "source": [
    "df.groupby('ad_type').count().plot.pie(y=\"author\", autopct=\"%d\", figsize=(8,  8), fontsize=20, ylabel='')\n",
    "plt.savefig(\"pie_type.png\", pad_inches=0, bbox_inches='tight')"
   ]
  },
  {
   "cell_type": "code",
   "execution_count": 11,
   "id": "f523d696-ed16-484a-ab09-68318dcf7145",
   "metadata": {
    "execution": {
     "iopub.execute_input": "2022-02-01T17:59:37.874385Z",
     "iopub.status.busy": "2022-02-01T17:59:37.874225Z",
     "iopub.status.idle": "2022-02-01T17:59:37.883904Z",
     "shell.execute_reply": "2022-02-01T17:59:37.883334Z",
     "shell.execute_reply.started": "2022-02-01T17:59:37.874369Z"
    }
   },
   "outputs": [],
   "source": [
    "df_selling = df[df['ad_type'] == \"Selling\"]"
   ]
  },
  {
   "cell_type": "code",
   "execution_count": 32,
   "id": "dbbee246-5df3-4ffd-890d-921c4076a562",
   "metadata": {
    "execution": {
     "iopub.execute_input": "2022-02-01T18:35:32.292649Z",
     "iopub.status.busy": "2022-02-01T18:35:32.292308Z",
     "iopub.status.idle": "2022-02-01T18:35:32.686551Z",
     "shell.execute_reply": "2022-02-01T18:35:32.685880Z",
     "shell.execute_reply.started": "2022-02-01T18:35:32.292610Z"
    },
    "tags": []
   },
   "outputs": [
    {
     "name": "stderr",
     "output_type": "stream",
     "text": [
      "No artists with labels found to put in legend.  Note that artists whose label start with an underscore are ignored when legend() is called with no argument.\n"
     ]
    },
    {
     "data": {
      "image/png": "[encoded data removed]",
      "text/plain": [
       "<Figure size 2160x360 with 1 Axes>"
      ]
     },
     "metadata": {
      "needs_background": "light"
     },
     "output_type": "display_data"
    }
   ],
   "source": [
    "bins = [1,2,3,5,10,20,30,50,100]\n",
    "ax = df_selling.groupby('author').size().hist(bins=70, figsize=(30,5), legend=True)\n",
    "ax.set_xlabel(\"Number of posts\")\n",
    "ax.set_ylabel(\"Number of authors\")\n",
    "plt.savefig(\"Number of adverts by author.png\", pad_inches=0, bbox_inches='tight')"
   ]
  },
  {
   "cell_type": "code",
   "execution_count": 13,
   "id": "eb70ba40-925c-42e4-8b0e-7a7d188cefa9",
   "metadata": {
    "execution": {
     "iopub.execute_input": "2022-02-01T17:59:38.140542Z",
     "iopub.status.busy": "2022-02-01T17:59:38.140244Z",
     "iopub.status.idle": "2022-02-01T17:59:38.158338Z",
     "shell.execute_reply": "2022-02-01T17:59:38.157793Z",
     "shell.execute_reply.started": "2022-02-01T17:59:38.140518Z"
    },
    "tags": []
   },
   "outputs": [
    {
     "data": {
      "text/plain": [
       "defaultdict(<function __main__.<lambda>()>,\n",
       "            {3: 841,\n",
       "             9: 112,\n",
       "             17: 20,\n",
       "             2: 1648,\n",
       "             6: 218,\n",
       "             1: 4272,\n",
       "             4: 519,\n",
       "             11: 53,\n",
       "             5: 344,\n",
       "             8: 109,\n",
       "             16: 28,\n",
       "             7: 178,\n",
       "             14: 38,\n",
       "             10: 90,\n",
       "             30: 7,\n",
       "             12: 58,\n",
       "             26: 3,\n",
       "             34: 3,\n",
       "             40: 3,\n",
       "             29: 6,\n",
       "             38: 4,\n",
       "             19: 12,\n",
       "             18: 16,\n",
       "             23: 11,\n",
       "             36: 2,\n",
       "             22: 10,\n",
       "             28: 5,\n",
       "             13: 42,\n",
       "             20: 9,\n",
       "             24: 6,\n",
       "             42: 1,\n",
       "             15: 30,\n",
       "             69: 1,\n",
       "             21: 9,\n",
       "             53: 1,\n",
       "             25: 4,\n",
       "             27: 3,\n",
       "             54: 2,\n",
       "             46: 1,\n",
       "             66: 1,\n",
       "             31: 3,\n",
       "             48: 1,\n",
       "             32: 2,\n",
       "             37: 2,\n",
       "             44: 1,\n",
       "             63: 1,\n",
       "             39: 1,\n",
       "             60: 1,\n",
       "             49: 2,\n",
       "             35: 1})"
      ]
     },
     "execution_count": 13,
     "metadata": {},
     "output_type": "execute_result"
    }
   ],
   "source": [
    "from collections import defaultdict\n",
    "hist_data_raw = defaultdict(lambda: 0)\n",
    "for value in df_selling.groupby('author').size():\n",
    "    hist_data_raw[value] += 1\n",
    "hist_data_raw"
   ]
  },
  {
   "cell_type": "code",
   "execution_count": 14,
   "id": "6eeeb7cf-6e78-478a-ad2e-cb96961218e0",
   "metadata": {
    "execution": {
     "iopub.execute_input": "2022-02-01T17:59:38.159146Z",
     "iopub.status.busy": "2022-02-01T17:59:38.159005Z",
     "iopub.status.idle": "2022-02-01T17:59:38.164063Z",
     "shell.execute_reply": "2022-02-01T17:59:38.163583Z",
     "shell.execute_reply.started": "2022-02-01T17:59:38.159129Z"
    },
    "tags": []
   },
   "outputs": [
    {
     "data": {
      "text/plain": [
       "{3: 2523,\n",
       " 9: 1008,\n",
       " 17: 340,\n",
       " 2: 3296,\n",
       " 6: 1308,\n",
       " 1: 4272,\n",
       " 4: 2076,\n",
       " 11: 583,\n",
       " 5: 1720,\n",
       " 8: 872,\n",
       " 16: 448,\n",
       " 7: 1246,\n",
       " 14: 532,\n",
       " 10: 900,\n",
       " 30: 210,\n",
       " 12: 696,\n",
       " 26: 78,\n",
       " 34: 102,\n",
       " 40: 120,\n",
       " 29: 174,\n",
       " 38: 152,\n",
       " 19: 228,\n",
       " 18: 288,\n",
       " 23: 253,\n",
       " 36: 72,\n",
       " 22: 220,\n",
       " 28: 140,\n",
       " 13: 546,\n",
       " 20: 180,\n",
       " 24: 144,\n",
       " 42: 42,\n",
       " 15: 450,\n",
       " 69: 69,\n",
       " 21: 189,\n",
       " 53: 53,\n",
       " 25: 100,\n",
       " 27: 81,\n",
       " 54: 108,\n",
       " 46: 46,\n",
       " 66: 66,\n",
       " 31: 93,\n",
       " 48: 48,\n",
       " 32: 64,\n",
       " 37: 74,\n",
       " 44: 44,\n",
       " 63: 63,\n",
       " 39: 39,\n",
       " 60: 60,\n",
       " 49: 98,\n",
       " 35: 35}"
      ]
     },
     "execution_count": 14,
     "metadata": {},
     "output_type": "execute_result"
    }
   ],
   "source": [
    "hist_data = {}\n",
    "for key, value in hist_data_raw.items():\n",
    "    hist_data[key] = value * key\n",
    "hist_data"
   ]
  },
  {
   "cell_type": "code",
   "execution_count": 15,
   "id": "43889210-8bbe-4cd5-9f6c-aba2e50cfc0c",
   "metadata": {
    "execution": {
     "iopub.execute_input": "2022-02-01T17:59:38.164992Z",
     "iopub.status.busy": "2022-02-01T17:59:38.164833Z",
     "iopub.status.idle": "2022-02-01T17:59:38.328319Z",
     "shell.execute_reply": "2022-02-01T17:59:38.327650Z",
     "shell.execute_reply.started": "2022-02-01T17:59:38.164975Z"
    },
    "tags": []
   },
   "outputs": [
    {
     "data": {
      "text/plain": [
       "Text(0, 0.5, 'Cummulative number of posts')"
      ]
     },
     "execution_count": 15,
     "metadata": {},
     "output_type": "execute_result"
    },
    {
     "data": {
      "image/png": "[encoded data removed]",
      "text/plain": [
       "<Figure size 1440x360 with 1 Axes>"
      ]
     },
     "metadata": {
      "needs_background": "light"
     },
     "output_type": "display_data"
    }
   ],
   "source": [
    "fig, ax = plt.subplots(figsize=(20,5))\n",
    "ax.bar(x=list(hist_data.keys()), height=list(hist_data.values()), width=1)\n",
    "ax.set_xlabel(\"Number of authors\")\n",
    "ax.set_ylabel(\"Cummulative number of posts\")"
   ]
  },
  {
   "cell_type": "code",
   "execution_count": 16,
   "id": "0eee2fa5-a3a3-4d21-8b91-3cca4f212952",
   "metadata": {
    "execution": {
     "iopub.execute_input": "2022-02-01T17:59:38.329590Z",
     "iopub.status.busy": "2022-02-01T17:59:38.329313Z",
     "iopub.status.idle": "2022-02-01T18:01:04.169174Z",
     "shell.execute_reply": "2022-02-01T18:01:04.168822Z",
     "shell.execute_reply.started": "2022-02-01T17:59:38.329559Z"
    },
    "tags": []
   },
   "outputs": [
    {
     "name": "stderr",
     "output_type": "stream",
     "text": [
      "/tmp/ipykernel_11036/1466094488.py:5: SettingWithCopyWarning: \n",
      "A value is trying to be set on a copy of a slice from a DataFrame.\n",
      "Try using .loc[row_indexer,col_indexer] = value instead\n",
      "\n",
      "See the caveats in the documentation: https://pandas.pydata.org/pandas-docs/stable/user_guide/indexing.html#returning-a-view-versus-a-copy\n",
      "  df_selling['is_last_post'] = df_selling.apply(is_last_post, axis=\"columns\")\n"
     ]
    },
    {
     "data": {
      "text/html": [
       "<div>\n",
       "<style scoped>\n",
       "    .dataframe tbody tr th:only-of-type {\n",
       "        vertical-align: middle;\n",
       "    }\n",
       "\n",
       "    .dataframe tbody tr th {\n",
       "        vertical-align: top;\n",
       "    }\n",
       "\n",
       "    .dataframe thead th {\n",
       "        text-align: right;\n",
       "    }\n",
       "</style>\n",
       "<table border=\"1\" class=\"dataframe\">\n",
       "  <thead>\n",
       "    <tr style=\"text-align: right;\">\n",
       "      <th></th>\n",
       "      <th>author</th>\n",
       "      <th>is_duplicate</th>\n",
       "      <th>created_utc</th>\n",
       "      <th>ad_type</th>\n",
       "      <th>date</th>\n",
       "      <th>is_last_post</th>\n",
       "    </tr>\n",
       "  </thead>\n",
       "  <tbody>\n",
       "    <tr>\n",
       "      <th>0</th>\n",
       "      <td>n00basaur</td>\n",
       "      <td>True</td>\n",
       "      <td>2021-05-16 21:22:38+00:00</td>\n",
       "      <td>Selling</td>\n",
       "      <td>2021-05-16</td>\n",
       "      <td>False</td>\n",
       "    </tr>\n",
       "    <tr>\n",
       "      <th>1</th>\n",
       "      <td>cookoojeffy</td>\n",
       "      <td>True</td>\n",
       "      <td>2021-08-25 21:42:34+00:00</td>\n",
       "      <td>Selling</td>\n",
       "      <td>2021-08-25</td>\n",
       "      <td>False</td>\n",
       "    </tr>\n",
       "    <tr>\n",
       "      <th>2</th>\n",
       "      <td>dxevin12</td>\n",
       "      <td>True</td>\n",
       "      <td>2021-06-21 21:48:35+00:00</td>\n",
       "      <td>Selling</td>\n",
       "      <td>2021-06-21</td>\n",
       "      <td>False</td>\n",
       "    </tr>\n",
       "    <tr>\n",
       "      <th>3</th>\n",
       "      <td>RyuDragoon</td>\n",
       "      <td>False</td>\n",
       "      <td>2021-12-12 15:33:36+00:00</td>\n",
       "      <td>Selling</td>\n",
       "      <td>2021-12-12</td>\n",
       "      <td>False</td>\n",
       "    </tr>\n",
       "    <tr>\n",
       "      <th>4</th>\n",
       "      <td>digitalxrt</td>\n",
       "      <td>True</td>\n",
       "      <td>2021-11-14 18:27:53+00:00</td>\n",
       "      <td>Selling</td>\n",
       "      <td>2021-11-14</td>\n",
       "      <td>False</td>\n",
       "    </tr>\n",
       "    <tr>\n",
       "      <th>...</th>\n",
       "      <td>...</td>\n",
       "      <td>...</td>\n",
       "      <td>...</td>\n",
       "      <td>...</td>\n",
       "      <td>...</td>\n",
       "      <td>...</td>\n",
       "    </tr>\n",
       "    <tr>\n",
       "      <th>49159</th>\n",
       "      <td>michaelengel</td>\n",
       "      <td>True</td>\n",
       "      <td>2022-01-20 03:10:58+00:00</td>\n",
       "      <td>Selling</td>\n",
       "      <td>2022-01-20</td>\n",
       "      <td>False</td>\n",
       "    </tr>\n",
       "    <tr>\n",
       "      <th>49160</th>\n",
       "      <td>michaelengel</td>\n",
       "      <td>True</td>\n",
       "      <td>2022-01-11 18:27:06+00:00</td>\n",
       "      <td>Selling</td>\n",
       "      <td>2022-01-11</td>\n",
       "      <td>False</td>\n",
       "    </tr>\n",
       "    <tr>\n",
       "      <th>49161</th>\n",
       "      <td>michaelengel</td>\n",
       "      <td>True</td>\n",
       "      <td>2022-01-07 03:03:45+00:00</td>\n",
       "      <td>Selling</td>\n",
       "      <td>2022-01-07</td>\n",
       "      <td>False</td>\n",
       "    </tr>\n",
       "    <tr>\n",
       "      <th>49162</th>\n",
       "      <td>michaelengel</td>\n",
       "      <td>True</td>\n",
       "      <td>2022-01-02 06:06:57+00:00</td>\n",
       "      <td>Selling</td>\n",
       "      <td>2022-01-02</td>\n",
       "      <td>False</td>\n",
       "    </tr>\n",
       "    <tr>\n",
       "      <th>49163</th>\n",
       "      <td>mlaggers13</td>\n",
       "      <td>True</td>\n",
       "      <td>2021-09-15 22:57:27+00:00</td>\n",
       "      <td>Selling</td>\n",
       "      <td>2021-09-15</td>\n",
       "      <td>False</td>\n",
       "    </tr>\n",
       "  </tbody>\n",
       "</table>\n",
       "<p>26549 rows × 6 columns</p>\n",
       "</div>"
      ],
      "text/plain": [
       "             author  is_duplicate               created_utc  ad_type  \\\n",
       "0         n00basaur          True 2021-05-16 21:22:38+00:00  Selling   \n",
       "1       cookoojeffy          True 2021-08-25 21:42:34+00:00  Selling   \n",
       "2          dxevin12          True 2021-06-21 21:48:35+00:00  Selling   \n",
       "3        RyuDragoon         False 2021-12-12 15:33:36+00:00  Selling   \n",
       "4        digitalxrt          True 2021-11-14 18:27:53+00:00  Selling   \n",
       "...             ...           ...                       ...      ...   \n",
       "49159  michaelengel          True 2022-01-20 03:10:58+00:00  Selling   \n",
       "49160  michaelengel          True 2022-01-11 18:27:06+00:00  Selling   \n",
       "49161  michaelengel          True 2022-01-07 03:03:45+00:00  Selling   \n",
       "49162  michaelengel          True 2022-01-02 06:06:57+00:00  Selling   \n",
       "49163    mlaggers13          True 2021-09-15 22:57:27+00:00  Selling   \n",
       "\n",
       "             date  is_last_post  \n",
       "0      2021-05-16         False  \n",
       "1      2021-08-25         False  \n",
       "2      2021-06-21         False  \n",
       "3      2021-12-12         False  \n",
       "4      2021-11-14         False  \n",
       "...           ...           ...  \n",
       "49159  2022-01-20         False  \n",
       "49160  2022-01-11         False  \n",
       "49161  2022-01-07         False  \n",
       "49162  2022-01-02         False  \n",
       "49163  2021-09-15         False  \n",
       "\n",
       "[26549 rows x 6 columns]"
      ]
     },
     "execution_count": 16,
     "metadata": {},
     "output_type": "execute_result"
    }
   ],
   "source": [
    "def is_last_post(row):\n",
    "    author = row['author']\n",
    "    df_author = df[df['author'] == author]\n",
    "    return all((row['created_utc'] >= created) for created in df_author['created_utc'])\n",
    "df_selling['is_last_post'] = df_selling.apply(is_last_post, axis=\"columns\")\n",
    "df_selling"
   ]
  },
  {
   "cell_type": "code",
   "execution_count": 33,
   "id": "efbb8a0e-4ab0-4499-8db6-a07fdfc3e560",
   "metadata": {
    "execution": {
     "iopub.execute_input": "2022-02-01T18:35:54.062178Z",
     "iopub.status.busy": "2022-02-01T18:35:54.061849Z",
     "iopub.status.idle": "2022-02-01T18:35:54.753068Z",
     "shell.execute_reply": "2022-02-01T18:35:54.752600Z",
     "shell.execute_reply.started": "2022-02-01T18:35:54.062141Z"
    },
    "tags": []
   },
   "outputs": [
    {
     "data": {
      "image/png": "[encoded data removed]",
      "text/plain": [
       "<Figure size 1440x360 with 1 Axes>"
      ]
     },
     "metadata": {
      "needs_background": "light"
     },
     "output_type": "display_data"
    }
   ],
   "source": [
    "fig, ax = plt.subplots(figsize=(20,5))\n",
    "ax.hist(\n",
    "    [\n",
    "        df_selling[df_selling[\"is_last_post\"] == val]['created_utc']\n",
    "        for val in [True, False]\n",
    "    ],\n",
    "    bins=30,\n",
    "    stacked=True,\n",
    "    label=[\"Last post\", \"Not last post\"]\n",
    ")\n",
    "plt.legend()\n",
    "plt.savefig(\"last post.png\", pad_inches=0, bbox_inches='tight')"
   ]
  },
  {
   "cell_type": "code",
   "execution_count": 34,
   "id": "425ae26e-90b5-4ee6-83d5-868839851cb9",
   "metadata": {
    "execution": {
     "iopub.execute_input": "2022-02-01T18:36:04.243996Z",
     "iopub.status.busy": "2022-02-01T18:36:04.243660Z",
     "iopub.status.idle": "2022-02-01T18:36:05.092446Z",
     "shell.execute_reply": "2022-02-01T18:36:05.091907Z",
     "shell.execute_reply.started": "2022-02-01T18:36:04.243958Z"
    },
    "tags": []
   },
   "outputs": [
    {
     "data": {
      "image/png": "[encoded data removed]",
      "text/plain": [
       "<Figure size 1440x360 with 1 Axes>"
      ]
     },
     "metadata": {
      "needs_background": "light"
     },
     "output_type": "display_data"
    }
   ],
   "source": [
    "fig, ax = plt.subplots(figsize=(20,5))\n",
    "ax.hist(\n",
    "    [\n",
    "        df_selling[(df_selling[\"is_last_post\"] == val1) & (df_selling[\"is_duplicate\"] == val2)]['created_utc']\n",
    "        for val1, val2 in ((True, False),(False, True),(False, False))\n",
    "    ],\n",
    "    bins=60,\n",
    "    stacked=True,\n",
    "    label=[\"Last post\", \"Duplicate\", \"Not duplicate, not last post\"] \n",
    ")\n",
    "plt.legend()\n",
    "plt.savefig(\"duplicates.png\", pad_inches=0, bbox_inches='tight')"
   ]
  },
  {
   "cell_type": "code",
   "execution_count": null,
   "id": "da5ee46b-4f59-49bf-b6a5-1bf45d478f40",
   "metadata": {
    "execution": {
     "iopub.execute_input": "2022-02-01T18:01:05.158805Z",
     "iopub.status.busy": "2022-02-01T18:01:05.158620Z",
     "iopub.status.idle": "2022-02-01T18:01:05.165893Z",
     "shell.execute_reply": "2022-02-01T18:01:05.165444Z",
     "shell.execute_reply.started": "2022-02-01T18:01:05.158788Z"
    }
   },
   "outputs": [
    {
     "data": {
      "text/html": [
       "<div>\n",
       "<style scoped>\n",
       "    .dataframe tbody tr th:only-of-type {\n",
       "        vertical-align: middle;\n",
       "    }\n",
       "\n",
       "    .dataframe tbody tr th {\n",
       "        vertical-align: top;\n",
       "    }\n",
       "\n",
       "    .dataframe thead th {\n",
       "        text-align: right;\n",
       "    }\n",
       "</style>\n",
       "<table border=\"1\" class=\"dataframe\">\n",
       "  <thead>\n",
       "    <tr style=\"text-align: right;\">\n",
       "      <th></th>\n",
       "      <th>author</th>\n",
       "      <th>is_duplicate</th>\n",
       "      <th>created_utc</th>\n",
       "      <th>ad_type</th>\n",
       "      <th>date</th>\n",
       "      <th>is_last_post</th>\n",
       "    </tr>\n",
       "  </thead>\n",
       "  <tbody>\n",
       "  </tbody>\n",
       "</table>\n",
       "</div>"
      ],
      "text/plain": [
       "Empty DataFrame\n",
       "Columns: [author, is_duplicate, created_utc, ad_type, date, is_last_post]\n",
       "Index: []"
      ]
     },
     "execution_count": 19,
     "metadata": {},
     "output_type": "execute_result"
    }
   ],
   "source": [
    "df_selling[df_selling['is_duplicate'] & df_selling['is_last_post']]"
   ]
  },
  {
   "cell_type": "code",
   "execution_count": null,
   "id": "41b85941-c78d-43d3-8b9e-e95dba06fd75",
   "metadata": {
    "execution": {
     "iopub.execute_input": "2022-02-01T18:01:05.167113Z",
     "iopub.status.busy": "2022-02-01T18:01:05.166639Z",
     "iopub.status.idle": "2022-02-01T18:01:05.185912Z",
     "shell.execute_reply": "2022-02-01T18:01:05.185410Z",
     "shell.execute_reply.started": "2022-02-01T18:01:05.167091Z"
    },
    "tags": []
   },
   "outputs": [
    {
     "data": {
      "text/html": [
       "<div>\n",
       "<style scoped>\n",
       "    .dataframe tbody tr th:only-of-type {\n",
       "        vertical-align: middle;\n",
       "    }\n",
       "\n",
       "    .dataframe tbody tr th {\n",
       "        vertical-align: top;\n",
       "    }\n",
       "\n",
       "    .dataframe thead th {\n",
       "        text-align: right;\n",
       "    }\n",
       "</style>\n",
       "<table border=\"1\" class=\"dataframe\">\n",
       "  <thead>\n",
       "    <tr style=\"text-align: right;\">\n",
       "      <th></th>\n",
       "      <th>is_duplicate</th>\n",
       "      <th>is_last_post</th>\n",
       "      <th>author</th>\n",
       "      <th>created_utc</th>\n",
       "      <th>ad_type</th>\n",
       "      <th>date</th>\n",
       "    </tr>\n",
       "  </thead>\n",
       "  <tbody>\n",
       "    <tr>\n",
       "      <th>0</th>\n",
       "      <td>False</td>\n",
       "      <td>False</td>\n",
       "      <td>8785</td>\n",
       "      <td>8785</td>\n",
       "      <td>8785</td>\n",
       "      <td>8785</td>\n",
       "    </tr>\n",
       "    <tr>\n",
       "      <th>1</th>\n",
       "      <td>False</td>\n",
       "      <td>True</td>\n",
       "      <td>7303</td>\n",
       "      <td>7303</td>\n",
       "      <td>7303</td>\n",
       "      <td>7303</td>\n",
       "    </tr>\n",
       "    <tr>\n",
       "      <th>2</th>\n",
       "      <td>True</td>\n",
       "      <td>False</td>\n",
       "      <td>10461</td>\n",
       "      <td>10461</td>\n",
       "      <td>10461</td>\n",
       "      <td>10461</td>\n",
       "    </tr>\n",
       "  </tbody>\n",
       "</table>\n",
       "</div>"
      ],
      "text/plain": [
       "   is_duplicate  is_last_post  author  created_utc  ad_type   date\n",
       "0         False         False    8785         8785     8785   8785\n",
       "1         False          True    7303         7303     7303   7303\n",
       "2          True         False   10461        10461    10461  10461"
      ]
     },
     "execution_count": 20,
     "metadata": {},
     "output_type": "execute_result"
    }
   ],
   "source": [
    "df_selling.groupby(['is_duplicate', 'is_last_post'], as_index=False).count()"
   ]
  },
  {
   "cell_type": "code",
   "execution_count": null,
   "id": "cf532cb5-afa2-4b8f-8c16-9ecb32fd61c3",
   "metadata": {},
   "outputs": [],
   "source": []
  }
 ],
 "metadata": {
  "kernelspec": {
   "display_name": "Python 3 (ipykernel)",
   "language": "python",
   "name": "python3"
  },
  "language_info": {
   "codemirror_mode": {
    "name": "ipython",
    "version": 3
   },
   "file_extension": ".py",
   "mimetype": "text/x-python",
   "name": "python",
   "nbconvert_exporter": "python",
   "pygments_lexer": "ipython3",
   "version": "3.10.1"
  }
 },
 "nbformat": 4,
 "nbformat_minor": 5
}

{
 "cells": [
  {
   "cell_type": "code",
   "execution_count": 1,
   "id": "ab5e87fc-efdb-4cd4-8842-5e0e8eb621fb",
   "metadata": {
    "execution": {
     "iopub.execute_input": "2022-02-03T19:25:16.991845Z",
     "iopub.status.busy": "2022-02-03T19:25:16.991692Z",
     "iopub.status.idle": "2022-02-03T19:25:17.992352Z",
     "shell.execute_reply": "2022-02-03T19:25:17.991589Z",
     "shell.execute_reply.started": "2022-02-03T19:25:16.991801Z"
    },
    "tags": []
   },
   "outputs": [
    {
     "ename": "OperationalError",
     "evalue": "could not connect to server: Connection refused\n\tIs the server running on host \"localhost\" (::1) and accepting\n\tTCP/IP connections on port 5432?\ncould not connect to server: Connection refused\n\tIs the server running on host \"localhost\" (127.0.0.1) and accepting\n\tTCP/IP connections on port 5432?\n",
     "output_type": "error",
     "traceback": [
      "\u001b[0;31m---------------------------------------------------------------------------\u001b[0m",
      "\u001b[0;31mOperationalError\u001b[0m                          Traceback (most recent call last)",
      "Input \u001b[0;32mIn [1]\u001b[0m, in \u001b[0;36m<module>\u001b[0;34m\u001b[0m\n\u001b[1;32m      4\u001b[0m \u001b[38;5;28;01mfrom\u001b[39;00m \u001b[38;5;21;01mdatetime\u001b[39;00m \u001b[38;5;28;01mimport\u001b[39;00m datetime\n\u001b[1;32m      5\u001b[0m \u001b[38;5;28;01mimport\u001b[39;00m \u001b[38;5;21;01mnumpy\u001b[39;00m \u001b[38;5;28;01mas\u001b[39;00m \u001b[38;5;21;01mnp\u001b[39;00m\n\u001b[0;32m----> 6\u001b[0m conn \u001b[38;5;241m=\u001b[39m \u001b[43mpsycopg2\u001b[49m\u001b[38;5;241;43m.\u001b[39;49m\u001b[43mconnect\u001b[49m\u001b[43m(\u001b[49m\u001b[38;5;124;43m\"\u001b[39;49m\u001b[38;5;124;43mdbname=fleebmarket user=fleebmarket host=localhost\u001b[39;49m\u001b[38;5;124;43m\"\u001b[39;49m\u001b[43m)\u001b[49m\n",
      "File \u001b[0;32m~/.virtualenvs/fleebmarket_backend/lib/python3.10/site-packages/psycopg2/__init__.py:122\u001b[0m, in \u001b[0;36mconnect\u001b[0;34m(dsn, connection_factory, cursor_factory, **kwargs)\u001b[0m\n\u001b[1;32m    119\u001b[0m     kwasync[\u001b[38;5;124m'\u001b[39m\u001b[38;5;124masync_\u001b[39m\u001b[38;5;124m'\u001b[39m] \u001b[38;5;241m=\u001b[39m kwargs\u001b[38;5;241m.\u001b[39mpop(\u001b[38;5;124m'\u001b[39m\u001b[38;5;124masync_\u001b[39m\u001b[38;5;124m'\u001b[39m)\n\u001b[1;32m    121\u001b[0m dsn \u001b[38;5;241m=\u001b[39m _ext\u001b[38;5;241m.\u001b[39mmake_dsn(dsn, \u001b[38;5;241m*\u001b[39m\u001b[38;5;241m*\u001b[39mkwargs)\n\u001b[0;32m--> 122\u001b[0m conn \u001b[38;5;241m=\u001b[39m \u001b[43m_connect\u001b[49m\u001b[43m(\u001b[49m\u001b[43mdsn\u001b[49m\u001b[43m,\u001b[49m\u001b[43m \u001b[49m\u001b[43mconnection_factory\u001b[49m\u001b[38;5;241;43m=\u001b[39;49m\u001b[43mconnection_factory\u001b[49m\u001b[43m,\u001b[49m\u001b[43m \u001b[49m\u001b[38;5;241;43m*\u001b[39;49m\u001b[38;5;241;43m*\u001b[39;49m\u001b[43mkwasync\u001b[49m\u001b[43m)\u001b[49m\n\u001b[1;32m    123\u001b[0m \u001b[38;5;28;01mif\u001b[39;00m cursor_factory \u001b[38;5;129;01mis\u001b[39;00m \u001b[38;5;129;01mnot\u001b[39;00m \u001b[38;5;28;01mNone\u001b[39;00m:\n\u001b[1;32m    124\u001b[0m     conn\u001b[38;5;241m.\u001b[39mcursor_factory \u001b[38;5;241m=\u001b[39m cursor_factory\n",
      "\u001b[0;31mOperationalError\u001b[0m: could not connect to server: Connection refused\n\tIs the server running on host \"localhost\" (::1) and accepting\n\tTCP/IP connections on port 5432?\ncould not connect to server: Connection refused\n\tIs the server running on host \"localhost\" (127.0.0.1) and accepting\n\tTCP/IP connections on port 5432?\n"
     ]
    }
   ],
   "source": [
    "import psycopg2\n",
    "import pandas as pd\n",
    "import matplotlib.pyplot as plt\n",
    "from datetime import datetime\n",
    "import numpy as np\n",
    "conn = psycopg2.connect(\"dbname=fleebmarket user=fleebmarket host=localhost\")\n"
   ]
  },
  {
   "cell_type": "code",
   "execution_count": null,
   "id": "57c9c34b-69e8-4f56-9f8c-4f14f0966cb9",
   "metadata": {
    "execution": {
     "iopub.status.busy": "2022-02-03T19:25:17.992789Z",
     "iopub.status.idle": "2022-02-03T19:25:17.992945Z",
     "shell.execute_reply": "2022-02-03T19:25:17.992869Z",
     "shell.execute_reply.started": "2022-02-03T19:25:17.992861Z"
    },
    "tags": []
   },
   "outputs": [],
   "source": [
    "cur = conn.cursor()\n"
   ]
  },
  {
   "cell_type": "code",
   "execution_count": null,
   "id": "eb48f1ad-3943-46f4-8757-1c0978d3382b",
   "metadata": {
    "execution": {
     "iopub.status.busy": "2022-02-03T19:25:17.993765Z",
     "iopub.status.idle": "2022-02-03T19:25:17.993927Z",
     "shell.execute_reply": "2022-02-03T19:25:17.993862Z",
     "shell.execute_reply.started": "2022-02-03T19:25:17.993855Z"
    },
    "tags": []
   },
   "outputs": [],
   "source": [
    "cur.execute(\"SELECT count(*) as c, author, is_duplicate from search_app_redditadvert where ad_type in ('Selling', 'Sold', 'Buying', 'Purchased') group by author, is_duplicate;\")\n",
    "data = cur.fetchall()"
   ]
  },
  {
   "cell_type": "code",
   "execution_count": null,
   "id": "04ffe732-1d76-4bb6-9ed9-6941c6d8d96c",
   "metadata": {
    "execution": {
     "iopub.status.busy": "2022-02-03T19:25:17.994520Z",
     "iopub.status.idle": "2022-02-03T19:25:17.994695Z",
     "shell.execute_reply": "2022-02-03T19:25:17.994621Z",
     "shell.execute_reply.started": "2022-02-03T19:25:17.994613Z"
    },
    "tags": []
   },
   "outputs": [],
   "source": [
    "cur.execute(\"SELECT author, is_duplicate, created_utc, ad_type from search_app_redditadvert where ad_type in ('Selling', 'Sold', 'Buying', 'Purchased') ;\")\n",
    "data = cur.fetchall()\n",
    "len(data)"
   ]
  },
  {
   "cell_type": "code",
   "execution_count": null,
   "id": "0366683b-1c8f-456b-9fad-0263daa22f1c",
   "metadata": {
    "execution": {
     "iopub.status.busy": "2022-02-03T19:25:17.995233Z",
     "iopub.status.idle": "2022-02-03T19:25:17.995453Z",
     "shell.execute_reply": "2022-02-03T19:25:17.995387Z",
     "shell.execute_reply.started": "2022-02-03T19:25:17.995379Z"
    },
    "tags": []
   },
   "outputs": [],
   "source": [
    "df = pd.DataFrame(data, columns=[\"author\", \"is_duplicate\", \"created_utc\", \"ad_type\"])\n",
    "df[\"created_utc\"] = pd.to_datetime(df[\"created_utc\"], utc=True)\n",
    "df[\"date\"] = df[\"created_utc\"].apply(lambda d: d.date())\n",
    "df = df[df[\"date\"] > np.datetime64('2021-05-01')]\n",
    "df"
   ]
  },
  {
   "cell_type": "code",
   "execution_count": null,
   "id": "e4b29d1a-4aed-4d40-b889-d9a87e9f3925",
   "metadata": {
    "execution": {
     "iopub.status.busy": "2022-02-03T19:25:17.995885Z",
     "iopub.status.idle": "2022-02-03T19:25:17.996036Z",
     "shell.execute_reply": "2022-02-03T19:25:17.995971Z",
     "shell.execute_reply.started": "2022-02-03T19:25:17.995963Z"
    },
    "tags": []
   },
   "outputs": [],
   "source": [
    "set(df[\"ad_type\"])"
   ]
  },
  {
   "cell_type": "code",
   "execution_count": null,
   "id": "2e6cef24-1d89-4170-975e-6809954503bc",
   "metadata": {
    "execution": {
     "iopub.status.busy": "2022-02-03T19:25:17.996507Z",
     "iopub.status.idle": "2022-02-03T19:25:17.996700Z",
     "shell.execute_reply": "2022-02-03T19:25:17.996633Z",
     "shell.execute_reply.started": "2022-02-03T19:25:17.996626Z"
    },
    "tags": []
   },
   "outputs": [],
   "source": [
    "ax = df.hist(column=\"created_utc\", bins=60, figsize=(20, 5))"
   ]
  },
  {
   "cell_type": "code",
   "execution_count": null,
   "id": "8c08043a-fe12-497b-8fdd-1c27d9f7dfb5",
   "metadata": {
    "execution": {
     "iopub.status.busy": "2022-02-03T19:25:17.997185Z",
     "iopub.status.idle": "2022-02-03T19:25:17.997424Z",
     "shell.execute_reply": "2022-02-03T19:25:17.997356Z",
     "shell.execute_reply.started": "2022-02-03T19:25:17.997347Z"
    },
    "tags": []
   },
   "outputs": [],
   "source": [
    "fig, ax = plt.subplots(figsize=(20,5))\n",
    "ad_types = [ \"Selling\", \"Sold\", \"Buying\", \"Purchased\"]\n",
    "ax.hist(\n",
    "    [\n",
    "        df[df[\"ad_type\"] == ad_type]['created_utc']\n",
    "        for ad_type in ad_types\n",
    "    ],\n",
    "    bins=60,\n",
    "    stacked=True,\n",
    "    label=ad_types\n",
    ")\n",
    "plt.legend()\n",
    "plt.savefig(\"histogram_by_type.png\", pad_inches=0, bbox_inches='tight')"
   ]
  },
  {
   "cell_type": "code",
   "execution_count": null,
   "id": "b51bab8e-7354-400b-88d8-8cbf7556e7d5",
   "metadata": {
    "execution": {
     "iopub.status.busy": "2022-02-03T19:25:17.997934Z",
     "iopub.status.idle": "2022-02-03T19:25:17.998099Z",
     "shell.execute_reply": "2022-02-03T19:25:17.998034Z",
     "shell.execute_reply.started": "2022-02-03T19:25:17.998026Z"
    },
    "tags": []
   },
   "outputs": [],
   "source": [
    "df.groupby('ad_type').count()"
   ]
  },
  {
   "cell_type": "code",
   "execution_count": null,
   "id": "138e9214-e198-4d04-b2ca-b385b83bc882",
   "metadata": {
    "execution": {
     "iopub.status.busy": "2022-02-03T19:25:17.998632Z",
     "iopub.status.idle": "2022-02-03T19:25:17.998778Z",
     "shell.execute_reply": "2022-02-03T19:25:17.998720Z",
     "shell.execute_reply.started": "2022-02-03T19:25:17.998713Z"
    },
    "tags": []
   },
   "outputs": [],
   "source": [
    "df.groupby('ad_type').count().plot.pie(y=\"author\", autopct=\"%d\", figsize=(8,  8), fontsize=20, ylabel='')\n",
    "plt.savefig(\"pie_type.png\", pad_inches=0, bbox_inches='tight')"
   ]
  },
  {
   "cell_type": "code",
   "execution_count": null,
   "id": "f523d696-ed16-484a-ab09-68318dcf7145",
   "metadata": {
    "execution": {
     "iopub.status.busy": "2022-02-03T19:25:17.999209Z",
     "iopub.status.idle": "2022-02-03T19:25:17.999367Z",
     "shell.execute_reply": "2022-02-03T19:25:17.999308Z",
     "shell.execute_reply.started": "2022-02-03T19:25:17.999300Z"
    }
   },
   "outputs": [],
   "source": [
    "df_selling = df[df['ad_type'] == \"Selling\"]"
   ]
  },
  {
   "cell_type": "code",
   "execution_count": null,
   "id": "dbbee246-5df3-4ffd-890d-921c4076a562",
   "metadata": {
    "execution": {
     "iopub.status.busy": "2022-02-03T19:25:17.999844Z",
     "iopub.status.idle": "2022-02-03T19:25:17.999961Z",
     "shell.execute_reply": "2022-02-03T19:25:17.999904Z",
     "shell.execute_reply.started": "2022-02-03T19:25:17.999897Z"
    },
    "tags": []
   },
   "outputs": [],
   "source": [
    "bins = [1,2,3,5,10,20,30,50,100]\n",
    "ax = df_selling.groupby('author').size().hist(bins=70, figsize=(30,5), legend=True)\n",
    "ax.set_xlabel(\"Number of posts\")\n",
    "ax.set_ylabel(\"Number of authors\")\n",
    "plt.savefig(\"Number of author by number of adverts.png\", pad_inches=0, bbox_inches='tight')"
   ]
  },
  {
   "cell_type": "code",
   "execution_count": null,
   "id": "eb70ba40-925c-42e4-8b0e-7a7d188cefa9",
   "metadata": {
    "execution": {
     "iopub.status.busy": "2022-02-03T19:25:18.000408Z",
     "iopub.status.idle": "2022-02-03T19:25:18.000528Z",
     "shell.execute_reply": "2022-02-03T19:25:18.000470Z",
     "shell.execute_reply.started": "2022-02-03T19:25:18.000463Z"
    },
    "tags": []
   },
   "outputs": [],
   "source": [
    "from collections import defaultdict\n",
    "hist_data_raw = defaultdict(lambda: 0)\n",
    "for value in df_selling.groupby('author').size():\n",
    "    hist_data_raw[value] += 1\n",
    "hist_data_raw"
   ]
  },
  {
   "cell_type": "code",
   "execution_count": null,
   "id": "6eeeb7cf-6e78-478a-ad2e-cb96961218e0",
   "metadata": {
    "execution": {
     "iopub.status.busy": "2022-02-03T19:25:18.001030Z",
     "iopub.status.idle": "2022-02-03T19:25:18.001164Z",
     "shell.execute_reply": "2022-02-03T19:25:18.001102Z",
     "shell.execute_reply.started": "2022-02-03T19:25:18.001095Z"
    },
    "tags": []
   },
   "outputs": [],
   "source": [
    "hist_data = {}\n",
    "for key, value in hist_data_raw.items():\n",
    "    hist_data[key] = value * key\n",
    "hist_data"
   ]
  },
  {
   "cell_type": "code",
   "execution_count": null,
   "id": "43889210-8bbe-4cd5-9f6c-aba2e50cfc0c",
   "metadata": {
    "execution": {
     "iopub.status.busy": "2022-02-03T19:25:18.001632Z",
     "iopub.status.idle": "2022-02-03T19:25:18.001749Z",
     "shell.execute_reply": "2022-02-03T19:25:18.001692Z",
     "shell.execute_reply.started": "2022-02-03T19:25:18.001686Z"
    },
    "tags": []
   },
   "outputs": [],
   "source": [
    "fig, ax = plt.subplots(figsize=(20,5))\n",
    "ax.bar(x=list(hist_data.keys()), height=list(hist_data.values()), width=1)\n",
    "ax.set_xlabel(\"Number of authors\")\n",
    "ax.set_ylabel(\"Cummulative number of posts\")"
   ]
  },
  {
   "cell_type": "code",
   "execution_count": null,
   "id": "0eee2fa5-a3a3-4d21-8b91-3cca4f212952",
   "metadata": {
    "execution": {
     "iopub.status.busy": "2022-02-03T19:25:18.002309Z",
     "iopub.status.idle": "2022-02-03T19:25:18.002440Z",
     "shell.execute_reply": "2022-02-03T19:25:18.002382Z",
     "shell.execute_reply.started": "2022-02-03T19:25:18.002375Z"
    },
    "tags": []
   },
   "outputs": [],
   "source": [
    "def is_last_post(row):\n",
    "    author = row['author']\n",
    "    df_author = df[df['author'] == author]\n",
    "    return all((row['created_utc'] >= created) for created in df_author['created_utc'])\n",
    "df_selling['is_last_post'] = df_selling.apply(is_last_post, axis=\"columns\")\n",
    "df_selling"
   ]
  },
  {
   "cell_type": "code",
   "execution_count": null,
   "id": "efbb8a0e-4ab0-4499-8db6-a07fdfc3e560",
   "metadata": {
    "execution": {
     "iopub.status.busy": "2022-02-03T19:25:18.002919Z",
     "iopub.status.idle": "2022-02-03T19:25:18.003044Z",
     "shell.execute_reply": "2022-02-03T19:25:18.002986Z",
     "shell.execute_reply.started": "2022-02-03T19:25:18.002979Z"
    },
    "tags": []
   },
   "outputs": [],
   "source": [
    "fig, ax = plt.subplots(figsize=(20,5))\n",
    "ax.hist(\n",
    "    [\n",
    "        df_selling[df_selling[\"is_last_post\"] == val]['created_utc']\n",
    "        for val in [True, False]\n",
    "    ],\n",
    "    bins=30,\n",
    "    stacked=True,\n",
    "    label=[\"Last post\", \"Not last post\"]\n",
    ")\n",
    "plt.legend()\n",
    "plt.savefig(\"last post.png\", pad_inches=0, bbox_inches='tight')"
   ]
  },
  {
   "cell_type": "code",
   "execution_count": null,
   "id": "425ae26e-90b5-4ee6-83d5-868839851cb9",
   "metadata": {
    "execution": {
     "iopub.status.busy": "2022-02-03T19:25:18.003446Z",
     "iopub.status.idle": "2022-02-03T19:25:18.003567Z",
     "shell.execute_reply": "2022-02-03T19:25:18.003509Z",
     "shell.execute_reply.started": "2022-02-03T19:25:18.003503Z"
    },
    "tags": []
   },
   "outputs": [],
   "source": [
    "fig, ax = plt.subplots(figsize=(20,5))\n",
    "ax.hist(\n",
    "    [\n",
    "        df_selling[(df_selling[\"is_last_post\"] == val1) & (df_selling[\"is_duplicate\"] == val2)]['created_utc']\n",
    "        for val1, val2 in ((True, False),(False, True),(False, False))\n",
    "    ],\n",
    "    bins=60,\n",
    "    stacked=True,\n",
    "    label=[\"Last post\", \"Duplicate\", \"Not duplicate, not last post\"] \n",
    ")\n",
    "plt.legend()\n",
    "plt.savefig(\"duplicates.png\", pad_inches=0, bbox_inches='tight')"
   ]
  },
  {
   "cell_type": "code",
   "execution_count": null,
   "id": "da5ee46b-4f59-49bf-b6a5-1bf45d478f40",
   "metadata": {
    "execution": {
     "iopub.status.busy": "2022-02-03T19:25:18.004225Z",
     "iopub.status.idle": "2022-02-03T19:25:18.004361Z",
     "shell.execute_reply": "2022-02-03T19:25:18.004303Z",
     "shell.execute_reply.started": "2022-02-03T19:25:18.004296Z"
    }
   },
   "outputs": [],
   "source": [
    "df_selling[df_selling['is_duplicate'] & df_selling['is_last_post']]"
   ]
  },
  {
   "cell_type": "code",
   "execution_count": null,
   "id": "41b85941-c78d-43d3-8b9e-e95dba06fd75",
   "metadata": {
    "execution": {
     "iopub.status.busy": "2022-02-03T19:25:18.005305Z",
     "iopub.status.idle": "2022-02-03T19:25:18.005547Z",
     "shell.execute_reply": "2022-02-03T19:25:18.005439Z",
     "shell.execute_reply.started": "2022-02-03T19:25:18.005427Z"
    },
    "tags": []
   },
   "outputs": [],
   "source": [
    "df_selling.groupby(['is_duplicate', 'is_last_post'], as_index=False).count()"
   ]
  },
  {
   "cell_type": "code",
   "execution_count": null,
   "id": "cf532cb5-afa2-4b8f-8c16-9ecb32fd61c3",
   "metadata": {
    "execution": {
     "iopub.status.busy": "2022-02-03T19:25:18.006238Z",
     "iopub.status.idle": "2022-02-03T19:25:18.006471Z",
     "shell.execute_reply": "2022-02-03T19:25:18.006355Z",
     "shell.execute_reply.started": "2022-02-03T19:25:18.006342Z"
    },
    "tags": []
   },
   "outputs": [],
   "source": [
    "df_selling[\"cat\"] = df_selling.apply(\n",
    "    lambda row: \"Duplicate\" if row[\"is_duplicate\"] else (\"Last post\" if row[\"is_last_post\"] else \"Not duplicate, not last post\"),\n",
    "    axis=\"columns\"\n",
    ")"
   ]
  },
  {
   "cell_type": "code",
   "execution_count": null,
   "id": "f35da123-6b1c-417d-8c2a-f03812b624a0",
   "metadata": {
    "execution": {
     "iopub.status.busy": "2022-02-03T19:25:18.007257Z",
     "iopub.status.idle": "2022-02-03T19:25:18.007556Z",
     "shell.execute_reply": "2022-02-03T19:25:18.007449Z",
     "shell.execute_reply.started": "2022-02-03T19:25:18.007436Z"
    },
    "tags": []
   },
   "outputs": [],
   "source": [
    "df_selling.groupby(\"cat\").count().plot.pie(y=\"author\", autopct=\"%d\", figsize=(8,  8), fontsize=20, ylabel='')"
   ]
  },
  {
   "cell_type": "code",
   "execution_count": null,
   "id": "1fdcecec-a9e5-44de-8663-8432b1631066",
   "metadata": {
    "execution": {
     "iopub.status.busy": "2022-02-03T19:25:18.008237Z",
     "iopub.status.idle": "2022-02-03T19:25:18.008449Z",
     "shell.execute_reply": "2022-02-03T19:25:18.008348Z",
     "shell.execute_reply.started": "2022-02-03T19:25:18.008336Z"
    },
    "tags": []
   },
   "outputs": [],
   "source": [
    "fig, ax = plt.subplots(figsize=(30, 5))\n",
    "ax.hist(df_selling.groupby('author').size(), bins=70, range=(1,70), linewidth=1.2, edgecolor='black', label=\"all posts\")\n",
    "ax.hist(df_selling[~df_selling[\"is_duplicate\"]].groupby('author').size(), bins=70, range=(1,70), edgecolor='black', label=\"without duplicates\")\n",
    "\n",
    "plt.legend()\n",
    "plt.yscale(\"log\")\n",
    "ax.set_xlabel(\"Number of posts\")\n",
    "ax.set_ylabel(\"Number of authors\")\n",
    "\n",
    "plt.title(\"Number of author by number of posts\")\n",
    "plt.savefig(\"Number of author by number of posts - with non-duplicates (log scale).png\", pad_inches=0, bbox_inches='tight')"
   ]
  },
  {
   "cell_type": "code",
   "execution_count": null,
   "id": "4e7a3805-6912-46ee-aeea-c7d65aee6406",
   "metadata": {},
   "outputs": [],
   "source": []
  }
 ],
 "metadata": {
  "kernelspec": {
   "display_name": "Python 3 (ipykernel)",
   "language": "python",
   "name": "python3"
  },
  "language_info": {
   "codemirror_mode": {
    "name": "ipython",
    "version": 3
   },
   "file_extension": ".py",
   "mimetype": "text/x-python",
   "name": "python",
   "nbconvert_exporter": "python",
   "pygments_lexer": "ipython3",
   "version": "3.10.1"
  }
 },
 "nbformat": 4,
 "nbformat_minor": 5
}

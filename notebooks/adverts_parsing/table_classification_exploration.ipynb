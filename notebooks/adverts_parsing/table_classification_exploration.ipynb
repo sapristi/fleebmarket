{
 "cells": [
  {
   "cell_type": "code",
   "execution_count": null,
   "id": "ddfd6fe6-8bb5-44af-8208-9e89d0aac91b",
   "metadata": {
    "tags": []
   },
   "outputs": [],
   "source": [
    "def reddit_link(row):\n",
    "    return f\"https://reddit.com/{row['reddit_id']}\""
   ]
  },
  {
   "cell_type": "code",
   "execution_count": null,
   "id": "5c134496-09da-488f-abdf-a167cbaf2d1d",
   "metadata": {
    "tags": []
   },
   "outputs": [],
   "source": [
    "import sys\n",
    "sys.path\n",
    "sys.path.append('/home/sapristi/dev/fleebmarket/advert_parsing/')"
   ]
  },
  {
   "cell_type": "code",
   "execution_count": null,
   "id": "921a470b-3022-40e6-a017-dcb8d87ccf82",
   "metadata": {
    "tags": []
   },
   "outputs": [],
   "source": [
    "\n",
    "from pydantic import BaseModel, validator\n",
    "import pandas as pd\n",
    "import more_itertools\n",
    "from enum import Enum\n",
    "from typing import Optional\n",
    "import re\n",
    "import ipywidgets as ipw\n",
    "from collections import defaultdict\n",
    "from dataclasses import dataclass\n",
    "\n",
    "from advert_parsing.markdown_parser.custom_ast import Text, Heading, Listing, Table,  Paragraph\n",
    "from advert_parsing.markdown_parser import md_to_ast"
   ]
  },
  {
   "cell_type": "code",
   "execution_count": null,
   "id": "6f3433a1-46fa-4f4c-a600-a81eab6abce7",
   "metadata": {
    "tags": []
   },
   "outputs": [],
   "source": [
    "try:\n",
    "    data_full = pd.read_pickle('adverts_parsed.pickle')\n",
    "except FileNotFoundError:\n",
    "    data_full = pd.read_csv('adverts.csv').drop_duplicates(subset=['full_text'], keep='last')\n",
    "    data_full['ast'] = data_full['full_text'].apply(md_to_ast)\n",
    "    data_full.to_pickle('adverts_parsed.pickle')\n",
    "    \n",
    "data_full['ast']"
   ]
  },
  {
   "cell_type": "code",
   "execution_count": null,
   "id": "e2932ec7-1ff2-4067-b065-9c159119716f",
   "metadata": {},
   "outputs": [],
   "source": []
  },
  {
   "cell_type": "code",
   "execution_count": null,
   "id": "ffed6f76-3f8c-470d-b059-b164145ebca9",
   "metadata": {
    "tags": []
   },
   "outputs": [],
   "source": [
    "def clean_table(table: Table):\n",
    "    ok_rows = []\n",
    "    for row in table.rows:\n",
    "        if any(row):\n",
    "            ok_rows.append(row)\n",
    "    \n",
    "    return Table(rows=ok_rows)"
   ]
  },
  {
   "cell_type": "code",
   "execution_count": null,
   "id": "14039225-91e6-47f9-bab7-3cbe1692219f",
   "metadata": {
    "tags": []
   },
   "outputs": [],
   "source": [
    "clean_table(Table(rows=[\n",
    "    [Text(text='ok'), None],\n",
    "    [None, None]\n",
    "]))"
   ]
  },
  {
   "cell_type": "code",
   "execution_count": null,
   "id": "560f163a-a49b-42ad-8434-3aca8384ae69",
   "metadata": {
    "tags": []
   },
   "outputs": [],
   "source": [
    "def extract_tables(item: Item):\n",
    "    if isinstance(item, Table):\n",
    "        return [item]\n",
    "    elif (\n",
    "        isinstance(item, Ast) or\n",
    "        isinstance(item, Listing) or \n",
    "        isinstance(item, Paragraph)\n",
    "    ):\n",
    "        \n",
    "        extracted_tables_lists = [extract_tables(child) for child in item.children]\n",
    "        tables = [clean_table(t) for tables in extracted_tables_lists for t in tables if tables is not None]\n",
    "        return tables\n",
    "#         return item.recurse(lambda items: [extract_tables(item) for item in items if item is not None])\n",
    "    else:\n",
    "        return []\n",
    "    "
   ]
  },
  {
   "cell_type": "code",
   "execution_count": null,
   "id": "5f2e0922-52d6-4962-87ed-f7696095c9ea",
   "metadata": {
    "tags": []
   },
   "outputs": [],
   "source": [
    "# extract_tables(Ast(children=asts[0]))"
   ]
  },
  {
   "cell_type": "code",
   "execution_count": null,
   "id": "e84d909a-1a98-467e-8abd-9eddf4627ddb",
   "metadata": {
    "tags": []
   },
   "outputs": [],
   "source": [
    "data_full['tables'] = data_full['ast'].apply(extract_tables)\n",
    "data_full['tables_df'] = data_full['tables'].apply(lambda l: [pd.DataFrame(item.rows) for item in l])\n",
    "data_full['tables_df'].iloc[0][0]"
   ]
  },
  {
   "cell_type": "code",
   "execution_count": null,
   "id": "48e7e4d3-4cce-4c0b-a0b7-0525aa7a0f42",
   "metadata": {
    "tags": []
   },
   "outputs": [],
   "source": [
    "total_tables = sum(map(len, data_full['tables_df']))\n",
    "total_tables\n",
    "    "
   ]
  },
  {
   "cell_type": "markdown",
   "id": "2fe08a7e-eed6-4f28-878a-800bce4c6be9",
   "metadata": {},
   "source": [
    "# capture prices in a table\n",
    "\n",
    "We have to find which column is most likely to contain prices.\n",
    "\n",
    "Problems: \n",
    "\n",
    " - different units\n",
    " - sometime no units\n",
    " - sometime shipping price, which is not very relevant\n",
    "\n",
    "## objectives\n",
    "\n",
    " 1. Find which columns contains the prices\n",
    " 2. in case multiple price tags are present, find the most likely:\n",
    "    -> biggest price, non striked\n",
    "    -> in case of multiple currencies, take ??\n",
    "\n",
    "\n",
    "## way to go\n",
    "\n",
    " 1. We first try to capture prices with units in all cells. \n",
    "   - A column should contain most of the prices.\n",
    " 2. If no column has price, we try to capture unitless prices, and do the same\n"
   ]
  },
  {
   "cell_type": "code",
   "execution_count": null,
   "id": "c69358e2-887e-4a94-9040-bcc0b0ca8dc5",
   "metadata": {
    "tags": []
   },
   "outputs": [],
   "source": [
    "# capture number, with either . or , as delimiter (non capturing group)\n",
    "number_regex = '\\d+(?:[.,]\\d+)?'\n",
    "\n",
    "class Currency(str, Enum):\n",
    "    GBP = \"GBP\"\n",
    "    CAD = \"CAD\"\n",
    "    AUD = \"AUD\"\n",
    "    SGD = \"SGD\"\n",
    "    EUR = \"EUR\"\n",
    "    USD = \"USD\"\n",
    "\n",
    "currencies = {\n",
    "    Currency.GBP: [\"£\", \"gbp\"],\n",
    "    Currency.CAD: ['CAD'],\n",
    "    Currency.AUD: ['AUD'],\n",
    "    Currency.SGD: ['sgd', 'sg$', 's$'],\n",
    "    Currency.EUR: ['eur', '€'],\n",
    "    Currency.USD: ['\\$', 'usd'],\n",
    "}\n",
    "\n",
    "def generate_curr_regexes(curr_exprs):\n",
    "    res = []\n",
    "    for curr_expr in curr_exprs:\n",
    "        res.append(f\"{curr_expr} ?({number_regex})\")\n",
    "        res.append(f\"({number_regex}) ?{curr_expr}\")\n",
    "    return res\n",
    "\n",
    "\n",
    "price_regexes = {\n",
    "    **{\n",
    "        curr: generate_curr_regexes(curr_exprs)\n",
    "        for curr, curr_exprs in currencies.items()\n",
    "    },\n",
    "}\n",
    "\n",
    "no_curr_price_regexes = [\n",
    "    f\"({number_regex}) ?shipped\",\n",
    "    f\"({number_regex}) ?\\+ ?shipping\"\n",
    "]"
   ]
  },
  {
   "cell_type": "code",
   "execution_count": null,
   "id": "8bfee62e-4938-401f-96eb-02026b0f6081",
   "metadata": {
    "tags": []
   },
   "outputs": [],
   "source": [
    "class PriceTag(BaseModel):\n",
    "    currency: Optional[Currency]\n",
    "    amount: float\n",
    "    striked: bool\n",
    "    \n",
    "    @validator('amount', pre=True)\n",
    "    def replace_comma(cls, value):\n",
    "        return value.replace(',', '.')\n",
    "\n",
    "PriceTag(amount='5.5', currency=None, striked=False), PriceTag(amount='5,5', currency=None, striked=False)"
   ]
  },
  {
   "cell_type": "code",
   "execution_count": null,
   "id": "2e24631a-0f5f-40e1-a313-784d8be7697a",
   "metadata": {
    "tags": []
   },
   "outputs": [],
   "source": [
    "def find_prices_in_text(text: Text) -> list[PriceTag]:\n",
    "    res = []\n",
    "    for curr, regexes in price_regexes.items():\n",
    "        for regex in regexes:\n",
    "            matches = re.findall(regex, text.text, flags=re.IGNORECASE)\n",
    "            res.extend(PriceTag(currency=curr, amount=match, striked=text.striked) for match in matches)\n",
    "    if not res:\n",
    "        for regex in no_curr_price_regexes:\n",
    "            matches = re.findall(regex, text.text, flags=re.IGNORECASE)\n",
    "            res.extend(PriceTag(currency=None, amount=match, striked=text.striked) for match in matches)\n",
    "    return res\n",
    "\n",
    "def find_price_wo_curr_in_text(text: Text, min_amount=10):\n",
    "    \"\"\"Find numbers in text. If a number is more than min_amount, consider it as unitless price.\"\"\"\n",
    "    number_only_regex = f\"(?<![a-z0-9-])({number_regex})(?![a-z.,0-9])\"\n",
    "    matches = re.findall(number_only_regex, text.text, flags=re.IGNORECASE)\n",
    "    res = []\n",
    "    for match in matches:\n",
    "        price_tag = PriceTag(currency=None, amount=match, striked=text.striked)\n",
    "        if price_tag.amount >= min_amount:\n",
    "            res.append(price_tag)\n",
    "    return res\n",
    "\n",
    "def find_sold_token_in_text(text: Text):\n",
    "    return [(\n",
    "        'sold' in text.text.lower() or\n",
    "        'traded' in text.text.lower()\n",
    "    )]\n",
    "\n",
    "def find_price_token_in_text(text: Text):\n",
    "    text_lower = text.text.lower()\n",
    "    return [(\n",
    "        'price' in text_lower or\n",
    "        'want' in text_lower or \n",
    "        'asking' in text_lower or\n",
    "        'usd' in text_lower or\n",
    "        'cost' in text_lower or\n",
    "        'pricing' in text_lower\n",
    "    )]\n",
    "\n",
    "\n",
    "def find_in_cell(find_function):\n",
    "    def inner(cell):\n",
    "        if cell is None:\n",
    "            return []\n",
    "        if isinstance(cell, Text):\n",
    "            return find_function(cell)\n",
    "        else:\n",
    "            return list(more_itertools.collapse(\n",
    "                [find_in_cell(find_function)(child) for child in cell.children],\n",
    "                levels=1\n",
    "            ))\n",
    "    return inner"
   ]
  },
  {
   "cell_type": "markdown",
   "id": "75f3e998-26db-48b3-881e-90d4947d38a1",
   "metadata": {},
   "source": [
    "# technique de classification \n",
    "\n",
    "si des prix sont trouvés:\n",
    "\n",
    " - classification avec uniquement des prix\n",
    " - si échec, classification avec prix + tag sold/traded\n",
    " \n",
    "si aucun prix, la même avec uniqument les nombres\n",
    "\n",
    "# algo de classification\n",
    "\n",
    "on cherche si une colonne contient l'essentiel des cellules avec les prix\n",
    "classification table artisan si les prix sont répartis a peu près uniformément"
   ]
  },
  {
   "cell_type": "code",
   "execution_count": null,
   "id": "01d128c6-7517-48df-9863-682093160309",
   "metadata": {
    "tags": []
   },
   "outputs": [],
   "source": [
    "class FoundPrices(BaseModel):\n",
    "    col_index: int\n",
    "    nb_found: int\n",
    "\n",
    "    \n",
    "@dataclass\n",
    "class ArtisanTable:\n",
    "    pass\n",
    "    \n",
    "class ItemsTable(BaseModel):\n",
    "    price_cols: list[int]\n",
    "    has_header: Optional[bool] = None\n",
    "\n",
    "@dataclass\n",
    "class Failure:\n",
    "    '''Failure to classify'''\n",
    "    reason: str\n",
    "    \n",
    "@dataclass\n",
    "class NotRelevant:\n",
    "    '''Table does not contain anything usefull'''\n",
    "    reason: str"
   ]
  },
  {
   "cell_type": "code",
   "execution_count": null,
   "id": "aa606c4a-afb8-49d4-983b-591b70f43f20",
   "metadata": {
    "tags": []
   },
   "outputs": [],
   "source": [
    "def header_cell_with_price(cell):\n",
    "    if cell is None:\n",
    "        return False\n",
    "    price_tokens = find_in_cell(find_price_token_in_text)(cell)\n",
    "    price_tags = find_in_cell(find_prices_in_text)(cell)\n",
    "    return sum(price_tokens) >= 1 and not price_tags\n",
    "\n",
    "# TODO: we could also check for striked text, which would indicate it is not a header\n",
    "def classify_with_header(df) -> ItemsTable | Failure:\n",
    "    first_row = df.iloc[0]\n",
    "    cells_with_price = [header_cell_with_price(cell) for cell in first_row]\n",
    "    price_header_indices = [i for i, is_price_header in enumerate(cells_with_price) if is_price_header]\n",
    "    if price_header_indices:\n",
    "        return ItemsTable(price_cols=price_header_indices, has_header=True)\n",
    "    return Failure(\"Cannot classify from header\")\n",
    "        \n",
    "classify_with_header(data_full['tables_df'].iloc[0][0])"
   ]
  },
  {
   "cell_type": "code",
   "execution_count": null,
   "id": "5d1faa05-c09b-4ca8-8667-f18cc266c5fb",
   "metadata": {
    "tags": []
   },
   "outputs": [],
   "source": [
    "def make_bool_df(df, find_function):\n",
    "    prices_df = df.applymap(find_in_cell(find_function))\n",
    "    bool_df = prices_df.applymap(bool)\n",
    "    return bool_df"
   ]
  },
  {
   "cell_type": "code",
   "execution_count": null,
   "id": "4a871be0-c5c6-4d16-b96b-b27abde88852",
   "metadata": {
    "tags": []
   },
   "outputs": [],
   "source": [
    "df1 = pd.DataFrame([\n",
    "    [True, False],\n",
    "    [True, False]\n",
    "])\n",
    "df2 = pd.DataFrame([\n",
    "    [False, True],\n",
    "    [True, False]\n",
    "])\n",
    "df1.add(df2)"
   ]
  },
  {
   "cell_type": "code",
   "execution_count": null,
   "id": "e1a95e98-c275-4b42-9387-23676076bc48",
   "metadata": {
    "tags": []
   },
   "outputs": [],
   "source": [
    "def generate_repartion(bool_df) -> list[FoundPrices]:\n",
    "    col_count = bool_df.sum()\n",
    "    repartition = []\n",
    "    for i, value in enumerate(col_count):\n",
    "        if value != 0:\n",
    "            repartition.append(FoundPrices(nb_found=value, col_index=i))\n",
    "    return sorted(repartition, key=lambda x: x.nb_found)\n",
    "\n",
    "bool_df = make_bool_df(data_full['tables_df'].iloc[0][0], find_prices_in_text)\n",
    "generate_repartion(bool_df)"
   ]
  },
  {
   "cell_type": "markdown",
   "id": "8660b33a-9236-4f58-bdb9-4aea09f808f2",
   "metadata": {},
   "source": [
    "### Classification à partir du header\n",
    "\n",
    " - détection d'un des mots clés (price, etc)\n",
    " - ne contient pas de prix\n",
    " \n",
    "Piste à explorer: cellule simple sans ast; ou nombre de mots"
   ]
  },
  {
   "cell_type": "code",
   "execution_count": null,
   "id": "311d1748-d522-4faa-bfa8-c584a947ddfb",
   "metadata": {
    "tags": []
   },
   "outputs": [],
   "source": [
    "def check_header_keywords():\n",
    "    \"\"\"prints out the words in header \"\"\"\n",
    "    for i, row in data_full.iterrows():\n",
    "        for table in row['tables_df']:\n",
    "            price_bool_df = make_bool_df(table, find_prices_in_text)\n",
    "            repartition = generate_repartion(price_bool_df)\n",
    "            if len(repartition) == 1:\n",
    "                col_index = repartition[0].col_index\n",
    "                if not price_bool_df.at[0, col_index]:\n",
    "                    if not header_cell_with_price(table.at[0, col_index]):\n",
    "                        print(table.at[0, col_index], reddit_link(row))\n",
    "                        \n",
    "# check_header_keywords()"
   ]
  },
  {
   "cell_type": "markdown",
   "id": "7f2c9cbd-0431-4118-823b-8416cf159031",
   "metadata": {},
   "source": [
    "### Classification à partir de la répartion des prix\n",
    "\n",
    "1. Classification différente suivant classification du header \n",
    " OU\n",
    "2. Classification indépendante puis merge des résultats ?\n",
    "\n",
    "\n",
    "Remarques:\n",
    " - La solution 2. passe plus facilement à l'échelle, mais il faut faire attention aux tables d'artisan.\n",
    " - De toute façon il faut savoir classifier sans header ; mais en fait ce n'est pas la même chose de classifier sans header et de classifier en sachant qu'aucune header n'a été trouvé\n",
    " \n",
    "\n",
    "-> implémenter les deux solutions et comparer les résultats\n",
    "\n",
    "\n",
    "####\n",
    "\n",
    "Ce qu'il en ressort:\n",
    "\n",
    "ça a l'air de marcher plutôt pas trop mal. Ce qui pourrait être mieux pour combiner:\n",
    "\n",
    " - les classifiers retournent uniquement les colonnes avec des prix, et éventuellement si un header est détecté\n",
    " - la classification en tant que table d'artisan par ex se fait par la suite lors de l'étape de combinaison"
   ]
  },
  {
   "cell_type": "markdown",
   "id": "525665c3-6fc3-479a-8f64-684f29ae9c54",
   "metadata": {},
   "source": [
    "#### Classification avec infos header"
   ]
  },
  {
   "cell_type": "raw",
   "id": "c2dda25f-74b6-45a1-89cc-d13c70566a36",
   "metadata": {
    "execution": {
     "iopub.execute_input": "2021-11-22T23:29:23.790210Z",
     "iopub.status.busy": "2021-11-22T23:29:23.789797Z",
     "iopub.status.idle": "2021-11-22T23:29:23.797634Z",
     "shell.execute_reply": "2021-11-22T23:29:23.796990Z",
     "shell.execute_reply.started": "2021-11-22T23:29:23.790170Z"
    },
    "tags": []
   },
   "source": [
    "def classify_table(bool_df, header):\n",
    "    repartition = generate_repartition(bool_df)\n",
    "    nb_cols_w_price = len(repartition)\n",
    "    if nb_cols_w_price == 0:\n",
    "        return NotRelevant(\"No row with price\")\n",
    "\n",
    "    if nb_cols_w_price == 1:\n",
    "        value = repartition[0]\n",
    "        if value.nb_found >= nb_rows / 2:\n",
    "            return ItemsTable(price_cols=[value.col_index], has_header=False)\n",
    "        else:\n",
    "            return Failure(f\"Price: Not enough rows with price: {value.nb_found}/{nb_rows}\")\n",
    "\n",
    "    if (\n",
    "        (nb_cols_w_price == nb_cols) or\n",
    "        (nb_cols_w_price >= nb_cols -1 and nb_cols > 2) or\n",
    "        (nb_cols > 4 and nb_cols_w_price >= nb_cols / 2)\n",
    "    ):\n",
    "        return ArtisanTable()\n",
    "\n",
    "    max_key = repartition[-1].nb_found\n",
    "    prev_key = repartition[-2].nb_found\n",
    "    \n",
    "    # if the columns with more prices has more than twice the double\n",
    "    # of the next biggest\n",
    "    if max_key >= prev_key * 2:\n",
    "#         print(\"Price: assuming max is good\", repartition, nb_cols, len(repartition))\n",
    "        return ItemsTable(price_cols=[max_key], has_header=has_header(bool_df, value.col_index)) \n",
    "    \n",
    "    return Failure(f\"Price: Strange repartition: {repartition}, {nb_cols}x{nb_rows}\")"
   ]
  },
  {
   "cell_type": "markdown",
   "id": "d6146f73-b62d-449c-9dce-f220b80f2f96",
   "metadata": {},
   "source": [
    "#### Classification combinée"
   ]
  },
  {
   "cell_type": "code",
   "execution_count": null,
   "id": "ae0c8250-053d-4e5e-a150-13fa8e64d427",
   "metadata": {
    "tags": []
   },
   "outputs": [],
   "source": [
    "def classify_table_simple(df, find_function) -> NotRelevant | ItemsTable | ArtisanTable:\n",
    "    nb_rows = len(df.index)\n",
    "    nb_cols = len(df.columns)\n",
    "    \n",
    "    bool_df = make_bool_df(df, find_function)\n",
    "#     print(bool_df)\n",
    "    repartition = generate_repartion(bool_df)\n",
    "    \n",
    "    if len(repartition) == 0:\n",
    "        return NotRelevant(reason=\"No price\")\n",
    "    \n",
    "    relevant_columns = [p for p in repartition if p.nb_found >= nb_rows / 2]\n",
    "    if len(relevant_columns) == 0:\n",
    "        return Failure(f\"Price: Not enough rows with price\")\n",
    "\n",
    "    if len(relevant_columns) == 1:        \n",
    "        value = relevant_columns[0]\n",
    "        return ItemsTable(price_cols=[value.col_index], has_header=None)\n",
    "    \n",
    "    if (\n",
    "        (len(relevant_columns) == nb_cols) or\n",
    "        (nb_cols > 3 and len(relevant_columns) >= nb_cols -1) or\n",
    "        (nb_cols > 4 and len(relevant_columns) >= nb_cols -2)\n",
    "    ):\n",
    "        return ArtisanTable()\n",
    "        \n",
    "    return ItemsTable(price_cols=[value.col_index for value in relevant_columns])"
   ]
  },
  {
   "cell_type": "code",
   "execution_count": null,
   "id": "f0ebe2eb-5711-46d9-8938-6c959cfd3078",
   "metadata": {
    "tags": []
   },
   "outputs": [],
   "source": [
    "def combined_classif(df):\n",
    "    header_classif = classify_with_header(df)\n",
    "    sold_bool_df = make_bool_df(df, find_sold_token_in_text)\n",
    "\n",
    "    price_classif = classify_table_simple(df, find_prices_in_text)\n",
    "    if not isinstance(price_classif, ItemsTable):\n",
    "        price_classif_wocurr = classify_table_simple(df, find_price_wo_curr_in_text)\n",
    "        if isinstance(price_classif_wocurr, ItemsTable):\n",
    "            price_classif = price_classif_wocurr\n",
    "\n",
    "    match header_classif, price_classif:\n",
    "        case ItemsTable(price_cols=price_cols_1, has_header=_), ItemsTable(price_cols=price_cols_2):\n",
    "            common_cols = set(price_cols_1) & set(price_cols_2)\n",
    "            if len(common_cols) == 0:\n",
    "                return Failure(reason=\"No common col between header and price classif\")\n",
    "            return ItemsTable(price_cols=common_cols, has_header=True)\n",
    "        \n",
    "        case ItemsTable(price_cols=price_cols, has_header=_), Failure(reason=_):\n",
    "            return ItemsTable(price_cols=price_cols, has_header=True)\n",
    "        \n",
    "        case ItemsTable(price_cols=price_cols, has_header=_), ArtisanTable() | NotRelevant():\n",
    "            return Failure(reason=\"different_classif\")\n",
    "        \n",
    "        case Failure(reason=_), ItemsTable(price_cols=price_cols):\n",
    "            return ItemsTable(price_cols=price_cols, has_header=False)\n",
    "            \n",
    "        case Failure(reason=_), _:\n",
    "            return price_classif\n",
    "        \n",
    "        case _, _:\n",
    "            print(header_classif, price_classif)\n",
    "            raise "
   ]
  },
  {
   "cell_type": "code",
   "execution_count": null,
   "id": "c815a260-b9ad-46bd-9e0a-b05708571c3d",
   "metadata": {
    "tags": []
   },
   "outputs": [],
   "source": [
    "tables_array = [\n",
    "    table \n",
    "    for tables in data_full['tables_df']\n",
    "    for table in tables\n",
    "]\n",
    "len(tables_array)"
   ]
  },
  {
   "cell_type": "code",
   "execution_count": null,
   "id": "de1769e0-e1e3-4aa4-a39f-bcc74d8f9884",
   "metadata": {
    "tags": []
   },
   "outputs": [],
   "source": [
    "classif_df = pd.DataFrame(tables_array, columns=['table'])\n",
    "classif_df['classif'] = classif_df['table'].apply(combined_classif)"
   ]
  },
  {
   "cell_type": "code",
   "execution_count": null,
   "id": "f3abedd9-d375-4211-a03a-c56efbf85397",
   "metadata": {
    "tags": []
   },
   "outputs": [],
   "source": [
    "classif_df['class'] = classif_df['classif'].apply(lambda o: o.__class__.__name__)"
   ]
  },
  {
   "cell_type": "code",
   "execution_count": null,
   "id": "4c00a6fb-d271-42f6-899b-0cce70825f13",
   "metadata": {
    "tags": []
   },
   "outputs": [],
   "source": [
    "classif_df.groupby(['class']).count()"
   ]
  }
 ],
 "metadata": {
  "kernelspec": {
   "display_name": "Python 3 (ipykernel)",
   "language": "python",
   "name": "python3"
  },
  "language_info": {
   "codemirror_mode": {
    "name": "ipython",
    "version": 3
   },
   "file_extension": ".py",
   "mimetype": "text/x-python",
   "name": "python",
   "nbconvert_exporter": "python",
   "pygments_lexer": "ipython3",
   "version": "3.9.9"
  },
  "toc-autonumbering": true
 },
 "nbformat": 4,
 "nbformat_minor": 5
}

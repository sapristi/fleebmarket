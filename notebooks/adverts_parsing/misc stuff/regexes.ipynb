{
 "cells": [
  {
   "cell_type": "code",
   "execution_count": 62,
   "id": "643ba5f2-3bcb-4071-8e6c-497847c0902b",
   "metadata": {},
   "outputs": [],
   "source": [
    "number_regex = '\\d+(?:[.,]\\d+)?'\n",
    "number_only_regex = f\"(?<![a-z0-9])({number_regex})(?![a-z.,0-9])\""
   ]
  },
  {
   "cell_type": "code",
   "execution_count": 63,
   "id": "a8b72c5f-10eb-49f9-a31c-3ba7a6ac1055",
   "metadata": {},
   "outputs": [],
   "source": [
    "import re"
   ]
  },
  {
   "cell_type": "code",
   "execution_count": 64,
   "id": "2ec3569a-4e00-468b-a3e1-f27d567152f4",
   "metadata": {},
   "outputs": [
    {
     "data": {
      "text/plain": [
       "['13.2']"
      ]
     },
     "execution_count": 64,
     "metadata": {},
     "output_type": "execute_result"
    }
   ],
   "source": [
    "re.findall(number_only_regex, \"avb 13.2\")"
   ]
  },
  {
   "cell_type": "code",
   "execution_count": 65,
   "id": "0bba046f-c106-4b4e-b2fb-ad166e77a97b",
   "metadata": {},
   "outputs": [
    {
     "data": {
      "text/plain": [
       "['13.2']"
      ]
     },
     "execution_count": 65,
     "metadata": {},
     "output_type": "execute_result"
    }
   ],
   "source": [
    "re.findall(number_only_regex, \"13.2U\")"
   ]
  },
  {
   "cell_type": "code",
   "execution_count": 66,
   "id": "597c9c99-331a-4239-bc88-a0eaedccbb88",
   "metadata": {},
   "outputs": [
    {
     "data": {
      "text/plain": [
       "[]"
      ]
     },
     "execution_count": 66,
     "metadata": {},
     "output_type": "execute_result"
    }
   ],
   "source": [
    "reg = \"\\d+([.,]\\d+)?(?![a-z.,0-9])\"\n",
    "re.findall(reg, \"12.2U\", flags=re.IGNORECASE)"
   ]
  },
  {
   "cell_type": "code",
   "execution_count": null,
   "id": "af9116b6-67d4-44d8-b2fe-a7126cdfbacd",
   "metadata": {},
   "outputs": [],
   "source": []
  }
 ],
 "metadata": {
  "kernelspec": {
   "display_name": "Python 3 (ipykernel)",
   "language": "python",
   "name": "python3"
  },
  "language_info": {
   "codemirror_mode": {
    "name": "ipython",
    "version": 3
   },
   "file_extension": ".py",
   "mimetype": "text/x-python",
   "name": "python",
   "nbconvert_exporter": "python",
   "pygments_lexer": "ipython3",
   "version": "3.9.7"
  }
 },
 "nbformat": 4,
 "nbformat_minor": 5
}

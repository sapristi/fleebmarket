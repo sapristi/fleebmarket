{
 "cells": [
  {
   "cell_type": "code",
   "execution_count": 1,
   "id": "9cbf5b5f-d8fc-47e7-b17a-94744e5a96c9",
   "metadata": {
    "execution": {
     "iopub.execute_input": "2021-11-26T03:45:04.621252Z",
     "iopub.status.busy": "2021-11-26T03:45:04.620798Z",
     "iopub.status.idle": "2021-11-26T03:45:04.627741Z",
     "shell.execute_reply": "2021-11-26T03:45:04.626497Z",
     "shell.execute_reply.started": "2021-11-26T03:45:04.621197Z"
    }
   },
   "outputs": [],
   "source": [
    "def reddit_link(row):\n",
    "    return f\"https://reddit.com/{row['reddit_id']}\""
   ]
  },
  {
   "cell_type": "code",
   "execution_count": 2,
   "id": "dffcb41c-1cd4-40d7-9e19-17f3c1ede97e",
   "metadata": {
    "execution": {
     "iopub.execute_input": "2021-11-26T03:45:04.628716Z",
     "iopub.status.busy": "2021-11-26T03:45:04.628511Z",
     "iopub.status.idle": "2021-11-26T03:45:04.631556Z",
     "shell.execute_reply": "2021-11-26T03:45:04.631057Z",
     "shell.execute_reply.started": "2021-11-26T03:45:04.628691Z"
    }
   },
   "outputs": [],
   "source": [
    "import sys\n",
    "sys.path\n",
    "sys.path.append('/home/sapristi/dev/fleebmarket/advert_parsing/')"
   ]
  },
  {
   "cell_type": "code",
   "execution_count": 3,
   "id": "1c69dceb-2255-4639-9ed9-b6eba0baf436",
   "metadata": {
    "execution": {
     "iopub.execute_input": "2021-11-26T03:45:04.632463Z",
     "iopub.status.busy": "2021-11-26T03:45:04.632262Z",
     "iopub.status.idle": "2021-11-26T03:45:05.209847Z",
     "shell.execute_reply": "2021-11-26T03:45:05.209483Z",
     "shell.execute_reply.started": "2021-11-26T03:45:04.632445Z"
    }
   },
   "outputs": [],
   "source": [
    "\n",
    "from pydantic import BaseModel, validator\n",
    "import pandas as pd\n",
    "import more_itertools\n",
    "from enum import Enum\n",
    "from typing import Optional\n",
    "import re\n",
    "import ipywidgets as ipw\n",
    "from collections import defaultdict\n",
    "from dataclasses import dataclass\n",
    "\n",
    "from advert_parsing.markdown_parser.custom_ast import Text, Heading, Listing, Table,  Paragraph, xml_to_ast_raw, collapse_ast, merge_styles, xml_to_ast\n",
    "from advert_parsing.markdown_parser.xml_parser import parse as parse_md_to_xml\n",
    "from advert_parsing.markdown_parser import md_to_ast"
   ]
  },
  {
   "cell_type": "code",
   "execution_count": 4,
   "id": "68483838-494c-4ca3-8de9-e1f51b314ab7",
   "metadata": {
    "execution": {
     "iopub.execute_input": "2021-11-26T03:45:05.210903Z",
     "iopub.status.busy": "2021-11-26T03:45:05.210670Z",
     "iopub.status.idle": "2021-11-26T03:45:05.315013Z",
     "shell.execute_reply": "2021-11-26T03:45:05.314556Z",
     "shell.execute_reply.started": "2021-11-26T03:45:05.210888Z"
    },
    "tags": []
   },
   "outputs": [],
   "source": [
    "data_full = pd.read_csv('adverts.csv').drop_duplicates(subset=['full_text'], keep='last')\n",
    "\n"
   ]
  },
  {
   "cell_type": "code",
   "execution_count": 5,
   "id": "28f21c81-dbe6-4d23-9f78-46813bc6cfde",
   "metadata": {
    "execution": {
     "iopub.execute_input": "2021-11-26T03:45:05.315747Z",
     "iopub.status.busy": "2021-11-26T03:45:05.315595Z",
     "iopub.status.idle": "2021-11-26T03:45:47.087885Z",
     "shell.execute_reply": "2021-11-26T03:45:47.087378Z",
     "shell.execute_reply.started": "2021-11-26T03:45:05.315732Z"
    },
    "tags": []
   },
   "outputs": [],
   "source": [
    "for i, text in enumerate(data_full['full_text']):\n",
    "    try:\n",
    "        xml = parse_md_to_xml(text)\n",
    "        ast_raw = xml_to_ast_raw(xml)\n",
    "    except Exception as exc:\n",
    "        print(i)\n",
    "        print(exc)\n",
    "        print()\n",
    "        print(text)\n",
    "        print()\n",
    "        print(xml)\n",
    "        break\n",
    "            \n"
   ]
  },
  {
   "cell_type": "code",
   "execution_count": null,
   "id": "41ceb1a7-c2ab-4cbf-92aa-34f6f6d42b18",
   "metadata": {},
   "outputs": [],
   "source": []
  }
 ],
 "metadata": {
  "kernelspec": {
   "display_name": "Python 3 (ipykernel)",
   "language": "python",
   "name": "python3"
  },
  "language_info": {
   "codemirror_mode": {
    "name": "ipython",
    "version": 3
   },
   "file_extension": ".py",
   "mimetype": "text/x-python",
   "name": "python",
   "nbconvert_exporter": "python",
   "pygments_lexer": "ipython3",
   "version": "3.9.9"
  }
 },
 "nbformat": 4,
 "nbformat_minor": 5
}

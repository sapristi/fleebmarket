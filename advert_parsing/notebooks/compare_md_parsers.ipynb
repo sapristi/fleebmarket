{
 "cells": [
  {
   "cell_type": "code",
   "execution_count": 1,
   "id": "cdb89f71-df17-45ba-8d91-33188e6073de",
   "metadata": {
    "execution": {
     "iopub.execute_input": "2021-09-16T15:22:08.303563Z",
     "iopub.status.busy": "2021-09-16T15:22:08.303365Z",
     "iopub.status.idle": "2021-09-16T15:22:08.576965Z",
     "shell.execute_reply": "2021-09-16T15:22:08.576641Z",
     "shell.execute_reply.started": "2021-09-16T15:22:08.303499Z"
    },
    "tags": []
   },
   "outputs": [],
   "source": [
    "from markdown_parser.custom_ast import Text, Break, Heading, Listing, Table, Ast, Item, Paragraph\n",
    "from markdown_parser import md_to_ast\n",
    "from custom_renderer import CustomRenderer, Text, Break, Heading, Listing, Table, Ast, Item, Paragraph\n",
    "import mistune_v2\n",
    "\n",
    "from pydantic import BaseModel, validator\n",
    "import pandas as pd\n",
    "import more_itertools\n",
    "from enum import Enum\n",
    "from typing import Optional\n",
    "import re\n",
    "import ipywidgets as ipw\n",
    "from collections import defaultdict\n",
    "from dataclasses import dataclass"
   ]
  },
  {
   "cell_type": "code",
   "execution_count": 2,
   "id": "d21f727a-f8dd-46c6-a3aa-84fabc3e255b",
   "metadata": {
    "execution": {
     "iopub.execute_input": "2021-09-16T15:22:08.577769Z",
     "iopub.status.busy": "2021-09-16T15:22:08.577611Z",
     "iopub.status.idle": "2021-09-16T15:22:08.580574Z",
     "shell.execute_reply": "2021-09-16T15:22:08.580161Z",
     "shell.execute_reply.started": "2021-09-16T15:22:08.577750Z"
    },
    "tags": []
   },
   "outputs": [],
   "source": [
    "custom_ast = mistune_v2.create_markdown(\n",
    "     plugins=['table', 'strikethrough'], \n",
    "    renderer=CustomRenderer()\n",
    ")"
   ]
  },
  {
   "cell_type": "code",
   "execution_count": 3,
   "id": "9678695f-a646-43d4-b9b1-512606afbb46",
   "metadata": {
    "execution": {
     "iopub.execute_input": "2021-09-16T15:22:08.582500Z",
     "iopub.status.busy": "2021-09-16T15:22:08.582078Z",
     "iopub.status.idle": "2021-09-16T15:22:08.585593Z",
     "shell.execute_reply": "2021-09-16T15:22:08.584804Z",
     "shell.execute_reply.started": "2021-09-16T15:22:08.582467Z"
    },
    "tags": []
   },
   "outputs": [],
   "source": [
    "def reddit_link(row):\n",
    "    return f\"https://reddit.com/{row['reddit_id']}\""
   ]
  },
  {
   "cell_type": "code",
   "execution_count": 4,
   "id": "bb913a98-fbc8-45a5-8c25-6b94ecae3b3c",
   "metadata": {
    "execution": {
     "iopub.execute_input": "2021-09-16T15:22:08.587393Z",
     "iopub.status.busy": "2021-09-16T15:22:08.586775Z",
     "iopub.status.idle": "2021-09-16T15:22:08.707422Z",
     "shell.execute_reply": "2021-09-16T15:22:08.706975Z",
     "shell.execute_reply.started": "2021-09-16T15:22:08.587349Z"
    },
    "tags": []
   },
   "outputs": [],
   "source": [
    "data_full = pd.read_csv('adverts.csv').drop_duplicates(subset=['full_text'], keep='last')"
   ]
  },
  {
   "cell_type": "code",
   "execution_count": 5,
   "id": "fc488f40-c8db-41e6-b7d9-3b71201510a1",
   "metadata": {
    "execution": {
     "iopub.execute_input": "2021-09-16T15:22:08.708106Z",
     "iopub.status.busy": "2021-09-16T15:22:08.707988Z",
     "iopub.status.idle": "2021-09-16T15:23:27.202725Z",
     "shell.execute_reply": "2021-09-16T15:23:27.202237Z",
     "shell.execute_reply.started": "2021-09-16T15:22:08.708094Z"
    },
    "tags": []
   },
   "outputs": [],
   "source": [
    "data_full['mistune'] = data_full['full_text'].apply(lambda text: Ast(children=custom_ast(text)))\n",
    "data_full['misaka'] = data_full['full_text'].apply(md_to_ast)\n"
   ]
  },
  {
   "cell_type": "code",
   "execution_count": 6,
   "id": "b4165d8f-507f-406e-b0d5-4702683b9311",
   "metadata": {
    "execution": {
     "iopub.execute_input": "2021-09-16T15:23:27.203516Z",
     "iopub.status.busy": "2021-09-16T15:23:27.203407Z",
     "iopub.status.idle": "2021-09-16T15:23:27.207364Z",
     "shell.execute_reply": "2021-09-16T15:23:27.206994Z",
     "shell.execute_reply.started": "2021-09-16T15:23:27.203488Z"
    },
    "tags": []
   },
   "outputs": [],
   "source": [
    "def clean_table(table: Table):\n",
    "    ok_rows = []\n",
    "    for row in table.rows:\n",
    "        if any(row):\n",
    "            ok_rows.append(row)\n",
    "    \n",
    "    return Table(rows=ok_rows)\n",
    "\n",
    "def extract_tables(item: Item):\n",
    "#     print(\"extracting tables from\", item)\n",
    "#     print(\"AST\", isinstance(item, Ast))\n",
    "    if isinstance(item, Table):\n",
    "        return [item]\n",
    "    elif (\n",
    "        isinstance(item, Ast) or\n",
    "        isinstance(item, Listing) or \n",
    "        isinstance(item, Paragraph)\n",
    "    ):\n",
    "        extracted_tables_lists = [extract_tables(child) for child in item.children]\n",
    "        tables = [clean_table(t) for tables in extracted_tables_lists for t in tables if tables is not None]\n",
    "#         print(\"Found in children:\", tables)\n",
    "        return tables\n",
    "    else:\n",
    "        return []\n",
    "    "
   ]
  },
  {
   "cell_type": "code",
   "execution_count": 13,
   "id": "39b513e8-36c4-48b1-aee0-db043dc6ef3d",
   "metadata": {
    "execution": {
     "iopub.execute_input": "2021-09-16T15:24:41.188192Z",
     "iopub.status.busy": "2021-09-16T15:24:41.187955Z",
     "iopub.status.idle": "2021-09-16T15:24:42.620106Z",
     "shell.execute_reply": "2021-09-16T15:24:42.619675Z",
     "shell.execute_reply.started": "2021-09-16T15:24:41.188172Z"
    },
    "tags": []
   },
   "outputs": [
    {
     "name": "stdout",
     "output_type": "stream",
     "text": [
      "969 mistune 0; misaka 1\n",
      "https://reddit.com/nemd3g\n",
      "1156 mistune 0; misaka 1\n",
      "https://reddit.com/o3ciaz\n",
      "3306 mistune 0; misaka 1\n",
      "https://reddit.com/o28vji\n",
      "3871 mistune 0; misaka 1\n",
      "https://reddit.com/nt7zxh\n",
      "4528 mistune 0; misaka 1\n",
      "https://reddit.com/opk4pc\n",
      "6271 mistune 0; misaka 1\n",
      "https://reddit.com/oue4oc\n",
      "7370 mistune 2; misaka 3\n",
      "https://reddit.com/osuczy\n",
      "7723 mistune 0; misaka 1\n",
      "https://reddit.com/ojjzbz\n",
      "9726 mistune 0; misaka 1\n",
      "https://reddit.com/oebs21\n"
     ]
    }
   ],
   "source": [
    "for i, row in data_full.iterrows():\n",
    "#     print(\"MISTUNE\")\n",
    "    tables_mistune = extract_tables(row['mistune'])\n",
    "    \n",
    "#     print()\n",
    "#     print(\"MISAKA\")\n",
    "    tables_misaka = extract_tables(row['misaka'])\n",
    "#     print()\n",
    "    \n",
    "    if len(tables_mistune) < len(tables_misaka):\n",
    "        print(i, f\"mistune {len(tables_mistune)}; misaka {len(tables_misaka)}\")\n",
    "        print(reddit_link(row))\n",
    "#         print(row[\"full_text\"])\n",
    "        "
   ]
  },
  {
   "cell_type": "code",
   "execution_count": 11,
   "id": "ebf0c59f-9dfa-4731-a15e-db3fe3f177aa",
   "metadata": {
    "execution": {
     "iopub.execute_input": "2021-09-16T15:24:17.204642Z",
     "iopub.status.busy": "2021-09-16T15:24:17.204300Z",
     "iopub.status.idle": "2021-09-16T15:24:17.207419Z",
     "shell.execute_reply": "2021-09-16T15:24:17.207067Z",
     "shell.execute_reply.started": "2021-09-16T15:24:17.204627Z"
    },
    "tags": []
   },
   "outputs": [
    {
     "data": {
      "text/plain": [
       "Ast(children=[Paragraph(children=[Text(text='timestamp: https://imgur.com/a/4vLfWjI', striked=False)], type='Paragraph'), Paragraph(children=[Text(text='hello mechmarket,', striked=False)], type='Paragraph'), Paragraph(children=[Text(text='Im here in a time of need for my other hobby. i have too many so this is to fund one of them.', striked=False), <Break.LineBreak: 'LineBreak'>, Text(text='I  have here a Peacock green matrix 1.2og with a linear setup: pom plate  linjars and FFFF linears all lubed and filmed(linjars not filmed) with  205g0.', striked=False)], type='Paragraph'), Paragraph(children=[Text(text='tactile version is dark ambers lubed and filmed with 205g0.', striked=False)], type='Paragraph'), Paragraph(children=[Text(text='im looking to get around 1100 Euros + shipping for these together.', striked=False), <Break.LineBreak: 'LineBreak'>, Text(text='Comes without the keycap ofc.', striked=False), Text(text='Hopefully within the EU. US is possible but i wont guarantee anything when it comes to shipping.', striked=False)], type='Paragraph'), Paragraph(children=[Text(text='yours sincerely,', striked=False)], type='Paragraph'), Paragraph(children=[Text(text='u/HumanGreed', striked=False)], type='Paragraph')], type='Ast')"
      ]
     },
     "execution_count": 11,
     "metadata": {},
     "output_type": "execute_result"
    }
   ],
   "source": [
    "row['misaka']"
   ]
  },
  {
   "cell_type": "code",
   "execution_count": null,
   "id": "4bc10a48-fdb9-4777-b6ba-d78624345bee",
   "metadata": {},
   "outputs": [],
   "source": []
  }
 ],
 "metadata": {
  "kernelspec": {
   "display_name": "Python 3 (ipykernel)",
   "language": "python",
   "name": "python3"
  },
  "language_info": {
   "codemirror_mode": {
    "name": "ipython",
    "version": 3
   },
   "file_extension": ".py",
   "mimetype": "text/x-python",
   "name": "python",
   "nbconvert_exporter": "python",
   "pygments_lexer": "ipython3",
   "version": "3.9.7"
  }
 },
 "nbformat": 4,
 "nbformat_minor": 5
}

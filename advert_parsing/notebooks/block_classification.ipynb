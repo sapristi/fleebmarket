{
 "cells": [
  {
   "cell_type": "code",
   "execution_count": 1,
   "id": "e8073847-aeef-4dd3-b944-44229df902c0",
   "metadata": {
    "execution": {
     "iopub.execute_input": "2021-11-23T19:42:01.832613Z",
     "iopub.status.busy": "2021-11-23T19:42:01.831864Z",
     "iopub.status.idle": "2021-11-23T19:42:01.843157Z",
     "shell.execute_reply": "2021-11-23T19:42:01.842308Z",
     "shell.execute_reply.started": "2021-11-23T19:42:01.832459Z"
    }
   },
   "outputs": [],
   "source": [
    "def reddit_link(row):\n",
    "    return f\"https://reddit.com/{row['reddit_id']}\""
   ]
  },
  {
   "cell_type": "code",
   "execution_count": 2,
   "id": "8ca855f4-1ab5-4818-ae33-5b0c1545dd42",
   "metadata": {
    "execution": {
     "iopub.execute_input": "2021-11-23T19:42:01.844134Z",
     "iopub.status.busy": "2021-11-23T19:42:01.843973Z",
     "iopub.status.idle": "2021-11-23T19:42:01.849103Z",
     "shell.execute_reply": "2021-11-23T19:42:01.848758Z",
     "shell.execute_reply.started": "2021-11-23T19:42:01.844120Z"
    }
   },
   "outputs": [],
   "source": [
    "import sys\n",
    "sys.path\n",
    "sys.path.append('/home/sapristi/dev/fleebmarket/advert_parsing/')"
   ]
  },
  {
   "cell_type": "code",
   "execution_count": 3,
   "id": "a3830985-27b9-417c-8222-02daeafc11b0",
   "metadata": {
    "execution": {
     "iopub.execute_input": "2021-11-23T19:42:01.850401Z",
     "iopub.status.busy": "2021-11-23T19:42:01.850234Z",
     "iopub.status.idle": "2021-11-23T19:42:02.152738Z",
     "shell.execute_reply": "2021-11-23T19:42:02.152236Z",
     "shell.execute_reply.started": "2021-11-23T19:42:01.850387Z"
    },
    "tags": []
   },
   "outputs": [],
   "source": [
    "from pydantic import BaseModel, validator\n",
    "import pandas as pd\n",
    "import more_itertools\n",
    "from enum import Enum\n",
    "from typing import Optional\n",
    "import re\n",
    "import ipywidgets as ipw\n",
    "from collections import defaultdict\n",
    "from dataclasses import dataclass\n",
    "\n",
    "\n",
    "from markdown_parser.custom_ast import Text, Break, Heading, Listing, Table, Ast, Item, Paragraph, TextAst\n",
    "from markdown_parser import md_to_ast\n",
    "from classification_utils.prices import find_in_tree, find_prices_in_text, find_price_wo_curr_in_text"
   ]
  },
  {
   "cell_type": "code",
   "execution_count": 4,
   "id": "77d719cf-2df5-4742-8492-d7bc972f1916",
   "metadata": {
    "execution": {
     "iopub.execute_input": "2021-11-23T19:42:02.153407Z",
     "iopub.status.busy": "2021-11-23T19:42:02.153303Z",
     "iopub.status.idle": "2021-11-23T19:42:03.053770Z",
     "shell.execute_reply": "2021-11-23T19:42:03.053329Z",
     "shell.execute_reply.started": "2021-11-23T19:42:02.153395Z"
    },
    "tags": []
   },
   "outputs": [
    {
     "data": {
      "text/plain": [
       "0       children=[Paragraph(children=[Text(text='GMK D...\n",
       "1       children=[Paragraph(children=[Text(text='Hello...\n",
       "2       children=[Paragraph(children=[Text(text='Times...\n",
       "3       children=[Paragraph(children=[Text(text='Times...\n",
       "4       children=[Paragraph(children=[Text(text='TIMES...\n",
       "                              ...                        \n",
       "9995    children=[Paragraph(children=[Text(text='Times...\n",
       "9996    children=[Paragraph(children=[Text(text='Times...\n",
       "9997    children=[Paragraph(children=[Text(text='Howdy...\n",
       "9998    children=[Paragraph(children=[Text(text='Times...\n",
       "9999    children=[Paragraph(children=[Text(text='times...\n",
       "Name: ast, Length: 9899, dtype: object"
      ]
     },
     "execution_count": 4,
     "metadata": {},
     "output_type": "execute_result"
    }
   ],
   "source": [
    "try:\n",
    "    data_full = pd.read_pickle('adverts_parsed.pickle')\n",
    "except FileNotFoundError:\n",
    "    data_full = pd.read_csv('adverts.csv').drop_duplicates(subset=['full_text'], keep='last')\n",
    "    data_full['ast'] = data_full['full_text'].apply(md_to_ast)\n",
    "    data_full.to_pickle('adverts_parsed.pickle')\n",
    "    \n",
    "data_full['ast']"
   ]
  },
  {
   "cell_type": "code",
   "execution_count": 5,
   "id": "b103d86e-e27a-4d4d-aafa-3cb93907ee45",
   "metadata": {
    "execution": {
     "iopub.execute_input": "2021-11-23T19:42:03.054504Z",
     "iopub.status.busy": "2021-11-23T19:42:03.054395Z",
     "iopub.status.idle": "2021-11-23T19:42:03.058412Z",
     "shell.execute_reply": "2021-11-23T19:42:03.058037Z",
     "shell.execute_reply.started": "2021-11-23T19:42:03.054490Z"
    },
    "tags": []
   },
   "outputs": [],
   "source": [
    "def clean_table(table: Table):\n",
    "    ok_rows = []\n",
    "    for row in table.rows:\n",
    "        if any(row):\n",
    "            ok_rows.append(row)\n",
    "    \n",
    "    return Table(rows=ok_rows)\n",
    "def extract_tables(item: Item):\n",
    "    if isinstance(item, Table):\n",
    "        return [item]\n",
    "    elif (\n",
    "        isinstance(item, Ast) or\n",
    "        isinstance(item, Listing) or \n",
    "        isinstance(item, Paragraph)\n",
    "    ):\n",
    "        \n",
    "        extracted_tables_lists = [extract_tables(child) for child in item.children]\n",
    "        tables = [clean_table(t) for tables in extracted_tables_lists for t in tables if tables is not None]\n",
    "        return tables\n",
    "#         return item.recurse(lambda items: [extract_tables(item) for item in items if item is not None])\n",
    "    else:\n",
    "        return []\n",
    "    "
   ]
  },
  {
   "cell_type": "code",
   "execution_count": 6,
   "id": "3e2299cb-aed7-4ef4-b935-c0a988464c41",
   "metadata": {
    "execution": {
     "iopub.execute_input": "2021-11-23T19:42:03.059195Z",
     "iopub.status.busy": "2021-11-23T19:42:03.059015Z",
     "iopub.status.idle": "2021-11-23T19:42:03.597628Z",
     "shell.execute_reply": "2021-11-23T19:42:03.597130Z",
     "shell.execute_reply.started": "2021-11-23T19:42:03.059180Z"
    },
    "tags": []
   },
   "outputs": [],
   "source": [
    "data_full['has_table'] = data_full['ast'].apply(lambda item: len(extract_tables(item)) > 0)"
   ]
  },
  {
   "cell_type": "code",
   "execution_count": 7,
   "id": "42acf9ff-9cea-480b-b7e9-f996fa0cbd28",
   "metadata": {
    "execution": {
     "iopub.execute_input": "2021-11-23T19:42:03.598320Z",
     "iopub.status.busy": "2021-11-23T19:42:03.598215Z",
     "iopub.status.idle": "2021-11-23T19:42:03.611844Z",
     "shell.execute_reply": "2021-11-23T19:42:03.611519Z",
     "shell.execute_reply.started": "2021-11-23T19:42:03.598292Z"
    },
    "tags": []
   },
   "outputs": [
    {
     "data": {
      "text/html": [
       "<div>\n",
       "<style scoped>\n",
       "    .dataframe tbody tr th:only-of-type {\n",
       "        vertical-align: middle;\n",
       "    }\n",
       "\n",
       "    .dataframe tbody tr th {\n",
       "        vertical-align: top;\n",
       "    }\n",
       "\n",
       "    .dataframe thead th {\n",
       "        text-align: right;\n",
       "    }\n",
       "</style>\n",
       "<table border=\"1\" class=\"dataframe\">\n",
       "  <thead>\n",
       "    <tr style=\"text-align: right;\">\n",
       "      <th></th>\n",
       "      <th>reddit_id</th>\n",
       "      <th>ad_type</th>\n",
       "      <th>full_text</th>\n",
       "      <th>ast</th>\n",
       "    </tr>\n",
       "  </thead>\n",
       "  <tbody>\n",
       "    <tr>\n",
       "      <th>1</th>\n",
       "      <td>ngm8a4</td>\n",
       "      <td>Sold</td>\n",
       "      <td>Hello everyone! All shipping and fees are incl...</td>\n",
       "      <td>children=[Paragraph(children=[Text(text='Hello...</td>\n",
       "    </tr>\n",
       "    <tr>\n",
       "      <th>2</th>\n",
       "      <td>nb5fp4</td>\n",
       "      <td>Selling</td>\n",
       "      <td>Timestamp: https://imgur.com/a/CtIzhIw\\n\\nSell...</td>\n",
       "      <td>children=[Paragraph(children=[Text(text='Times...</td>\n",
       "    </tr>\n",
       "    <tr>\n",
       "      <th>5</th>\n",
       "      <td>ngm9qo</td>\n",
       "      <td>Selling</td>\n",
       "      <td>https://imgur.com/a/lMBDhmL\\nAsking 315+Shippi...</td>\n",
       "      <td>children=[Paragraph(children=[Text(text='https...</td>\n",
       "    </tr>\n",
       "    <tr>\n",
       "      <th>8</th>\n",
       "      <td>ncn2ew</td>\n",
       "      <td>Sold</td>\n",
       "      <td>#[Timestamp](https://i.imgur.com/WmVhwo1.jpg)\\...</td>\n",
       "      <td>children=[Heading(children=[Text(text='Timesta...</td>\n",
       "    </tr>\n",
       "    <tr>\n",
       "      <th>10</th>\n",
       "      <td>ocn8rv</td>\n",
       "      <td>Selling</td>\n",
       "      <td>http://imgur.com/a/ivn2Jth\\n\\nAll items are Br...</td>\n",
       "      <td>children=[Paragraph(children=[Text(text='http:...</td>\n",
       "    </tr>\n",
       "    <tr>\n",
       "      <th>...</th>\n",
       "      <td>...</td>\n",
       "      <td>...</td>\n",
       "      <td>...</td>\n",
       "      <td>...</td>\n",
       "    </tr>\n",
       "    <tr>\n",
       "      <th>9995</th>\n",
       "      <td>ngg4op</td>\n",
       "      <td>Selling</td>\n",
       "      <td>[Timestamp](https://imgur.com/a/5Q83uhL)\\n\\nHi...</td>\n",
       "      <td>children=[Paragraph(children=[Text(text='Times...</td>\n",
       "    </tr>\n",
       "    <tr>\n",
       "      <th>9996</th>\n",
       "      <td>odkhfa</td>\n",
       "      <td>Selling</td>\n",
       "      <td>[Timestampu](http://imgur.com/a/ZgQS6Hs)\\n\\nHe...</td>\n",
       "      <td>children=[Paragraph(children=[Text(text='Times...</td>\n",
       "    </tr>\n",
       "    <tr>\n",
       "      <th>9997</th>\n",
       "      <td>oj6e6h</td>\n",
       "      <td>Selling</td>\n",
       "      <td>[Howdystamp](https://imgur.com/a/TkdzBWM)\\n\\nC...</td>\n",
       "      <td>children=[Paragraph(children=[Text(text='Howdy...</td>\n",
       "    </tr>\n",
       "    <tr>\n",
       "      <th>9998</th>\n",
       "      <td>oqofnq</td>\n",
       "      <td>Selling</td>\n",
       "      <td>[Timestamp](https://imgur.com/a/vENEOE4)\\n\\n\\n...</td>\n",
       "      <td>children=[Paragraph(children=[Text(text='Times...</td>\n",
       "    </tr>\n",
       "    <tr>\n",
       "      <th>9999</th>\n",
       "      <td>ng73pi</td>\n",
       "      <td>Selling</td>\n",
       "      <td>timestamp: [https://imgur.com/a/4vLfWjI](https...</td>\n",
       "      <td>children=[Paragraph(children=[Text(text='times...</td>\n",
       "    </tr>\n",
       "  </tbody>\n",
       "</table>\n",
       "<p>7054 rows × 4 columns</p>\n",
       "</div>"
      ],
      "text/plain": [
       "     reddit_id  ad_type                                          full_text  \\\n",
       "1       ngm8a4     Sold  Hello everyone! All shipping and fees are incl...   \n",
       "2       nb5fp4  Selling  Timestamp: https://imgur.com/a/CtIzhIw\\n\\nSell...   \n",
       "5       ngm9qo  Selling  https://imgur.com/a/lMBDhmL\\nAsking 315+Shippi...   \n",
       "8       ncn2ew     Sold  #[Timestamp](https://i.imgur.com/WmVhwo1.jpg)\\...   \n",
       "10      ocn8rv  Selling  http://imgur.com/a/ivn2Jth\\n\\nAll items are Br...   \n",
       "...        ...      ...                                                ...   \n",
       "9995    ngg4op  Selling  [Timestamp](https://imgur.com/a/5Q83uhL)\\n\\nHi...   \n",
       "9996    odkhfa  Selling  [Timestampu](http://imgur.com/a/ZgQS6Hs)\\n\\nHe...   \n",
       "9997    oj6e6h  Selling  [Howdystamp](https://imgur.com/a/TkdzBWM)\\n\\nC...   \n",
       "9998    oqofnq  Selling  [Timestamp](https://imgur.com/a/vENEOE4)\\n\\n\\n...   \n",
       "9999    ng73pi  Selling  timestamp: [https://imgur.com/a/4vLfWjI](https...   \n",
       "\n",
       "                                                    ast  \n",
       "1     children=[Paragraph(children=[Text(text='Hello...  \n",
       "2     children=[Paragraph(children=[Text(text='Times...  \n",
       "5     children=[Paragraph(children=[Text(text='https...  \n",
       "8     children=[Heading(children=[Text(text='Timesta...  \n",
       "10    children=[Paragraph(children=[Text(text='http:...  \n",
       "...                                                 ...  \n",
       "9995  children=[Paragraph(children=[Text(text='Times...  \n",
       "9996  children=[Paragraph(children=[Text(text='Times...  \n",
       "9997  children=[Paragraph(children=[Text(text='Howdy...  \n",
       "9998  children=[Paragraph(children=[Text(text='Times...  \n",
       "9999  children=[Paragraph(children=[Text(text='times...  \n",
       "\n",
       "[7054 rows x 4 columns]"
      ]
     },
     "execution_count": 7,
     "metadata": {},
     "output_type": "execute_result"
    }
   ],
   "source": [
    "data_full = data_full[~data_full['has_table']].drop('has_table', axis=\"columns\")\n",
    "data_full"
   ]
  },
  {
   "cell_type": "code",
   "execution_count": 8,
   "id": "fddbd2d3-72c1-4c0e-bb13-3c7bc85e436d",
   "metadata": {
    "execution": {
     "iopub.execute_input": "2021-11-23T19:42:03.612501Z",
     "iopub.status.busy": "2021-11-23T19:42:03.612386Z",
     "iopub.status.idle": "2021-11-23T19:42:06.892705Z",
     "shell.execute_reply": "2021-11-23T19:42:06.892225Z",
     "shell.execute_reply.started": "2021-11-23T19:42:03.612487Z"
    },
    "tags": []
   },
   "outputs": [],
   "source": [
    "data_full['nb_prices'] = data_full['ast'].apply(lambda ast: len(find_in_tree(find_prices_in_text)(ast)))"
   ]
  },
  {
   "cell_type": "code",
   "execution_count": 9,
   "id": "3cd799b5-5f45-4bfa-b9ed-823be35940a2",
   "metadata": {
    "execution": {
     "iopub.execute_input": "2021-11-23T19:42:06.893451Z",
     "iopub.status.busy": "2021-11-23T19:42:06.893338Z",
     "iopub.status.idle": "2021-11-23T19:42:07.722711Z",
     "shell.execute_reply": "2021-11-23T19:42:07.722349Z",
     "shell.execute_reply.started": "2021-11-23T19:42:06.893438Z"
    },
    "tags": []
   },
   "outputs": [
    {
     "data": {
      "text/plain": [
       "<AxesSubplot:>"
      ]
     },
     "execution_count": 9,
     "metadata": {},
     "output_type": "execute_result"
    },
    {
     "data": {
      "image/png": "[encoded data removed]",
      "text/plain": [
       "<Figure size 432x288 with 1 Axes>"
      ]
     },
     "metadata": {
      "needs_background": "light"
     },
     "output_type": "display_data"
    }
   ],
   "source": [
    "data_full['nb_prices'].hist()"
   ]
  },
  {
   "cell_type": "code",
   "execution_count": 10,
   "id": "3817017f-07c8-4c52-adea-951a324e04fe",
   "metadata": {
    "execution": {
     "iopub.execute_input": "2021-11-23T19:42:07.723869Z",
     "iopub.status.busy": "2021-11-23T19:42:07.723650Z",
     "iopub.status.idle": "2021-11-23T19:42:07.812423Z",
     "shell.execute_reply": "2021-11-23T19:42:07.812088Z",
     "shell.execute_reply.started": "2021-11-23T19:42:07.723848Z"
    },
    "tags": []
   },
   "outputs": [
    {
     "data": {
      "text/plain": [
       "<AxesSubplot:>"
      ]
     },
     "execution_count": 10,
     "metadata": {},
     "output_type": "execute_result"
    },
    {
     "data": {
      "image/png": "[encoded data removed]",
      "text/plain": [
       "<Figure size 432x288 with 1 Axes>"
      ]
     },
     "metadata": {
      "needs_background": "light"
     },
     "output_type": "display_data"
    }
   ],
   "source": [
    "data_full[data_full['nb_prices'] <= 10]['nb_prices'].hist()"
   ]
  },
  {
   "cell_type": "code",
   "execution_count": 11,
   "id": "cc51decc-577f-4be7-9532-e86acc9a7d7f",
   "metadata": {
    "execution": {
     "iopub.execute_input": "2021-11-23T19:42:07.813491Z",
     "iopub.status.busy": "2021-11-23T19:42:07.813223Z",
     "iopub.status.idle": "2021-11-23T19:42:07.903750Z",
     "shell.execute_reply": "2021-11-23T19:42:07.903359Z",
     "shell.execute_reply.started": "2021-11-23T19:42:07.813464Z"
    },
    "tags": []
   },
   "outputs": [
    {
     "data": {
      "text/plain": [
       "<AxesSubplot:>"
      ]
     },
     "execution_count": 11,
     "metadata": {},
     "output_type": "execute_result"
    },
    {
     "data": {
      "image/png": "[encoded data removed]",
      "text/plain": [
       "<Figure size 432x288 with 1 Axes>"
      ]
     },
     "metadata": {
      "needs_background": "light"
     },
     "output_type": "display_data"
    }
   ],
   "source": [
    "data_full[data_full['nb_prices'] > 10]['nb_prices'].hist()"
   ]
  },
  {
   "cell_type": "code",
   "execution_count": 12,
   "id": "257c1741-2991-418f-a81e-61672b07437f",
   "metadata": {
    "execution": {
     "iopub.execute_input": "2021-11-23T19:42:07.905749Z",
     "iopub.status.busy": "2021-11-23T19:42:07.905498Z",
     "iopub.status.idle": "2021-11-23T19:42:07.912752Z",
     "shell.execute_reply": "2021-11-23T19:42:07.912270Z",
     "shell.execute_reply.started": "2021-11-23T19:42:07.905724Z"
    },
    "tags": []
   },
   "outputs": [],
   "source": [
    "def split_paragraph(paragraph):\n",
    "    res = []\n",
    "    current_res = []\n",
    "    for child in paragraph.children:\n",
    "        if child == Break.LineBreak:\n",
    "            if current_res:\n",
    "                res.append(TextAst(children=current_res))\n",
    "        else:\n",
    "            current_res.append(child)\n",
    "    return res\n",
    "\n",
    "def find_items_with_price(ast, res):\n",
    "    nb_prices = len(find_in_tree(find_prices_in_text)(ast))\n",
    "    match ast, nb_prices:\n",
    "        case Text(text=_), _:\n",
    "            res.append(ast)\n",
    "\n",
    "        case Paragraph(children=_), _:\n",
    "            split_parag = split_paragraph(ast)\n",
    "            res.extend(split_parag)\n",
    "\n",
    "        case (Listing(children=children) | Ast(children=children), _):\n",
    "            for child in children:\n",
    "                find_items_with_price(child, res)\n",
    "                \n",
    "        case _, 0:\n",
    "            return\n",
    "        \n",
    "        case Heading(children=_), _:\n",
    "            res.append(ast)\n",
    "        \n",
    "        case _, _:\n",
    "            print(\"Something wrong?\", nb_prices, ast.__class__.__name__)\n",
    "            raise"
   ]
  },
  {
   "cell_type": "code",
   "execution_count": 13,
   "id": "10da2c73-e8f7-46a8-bf6e-a28b2ef42a40",
   "metadata": {
    "execution": {
     "iopub.execute_input": "2021-11-23T19:42:07.914356Z",
     "iopub.status.busy": "2021-11-23T19:42:07.913784Z",
     "iopub.status.idle": "2021-11-23T19:42:16.268911Z",
     "shell.execute_reply": "2021-11-23T19:42:16.268419Z",
     "shell.execute_reply.started": "2021-11-23T19:42:07.914290Z"
    },
    "tags": []
   },
   "outputs": [],
   "source": [
    "def apply_find_items_w_price(ast):\n",
    "    res = []\n",
    "    find_items_with_price(ast, res)\n",
    "    return res\n",
    "\n",
    "data_full['pitems'] = data_full['ast'].apply(apply_find_items_w_price)"
   ]
  },
  {
   "cell_type": "code",
   "execution_count": 14,
   "id": "4601784d-82cd-4dea-bf4a-59f08a5bccc3",
   "metadata": {
    "execution": {
     "iopub.execute_input": "2021-11-23T19:42:16.269631Z",
     "iopub.status.busy": "2021-11-23T19:42:16.269519Z",
     "iopub.status.idle": "2021-11-23T19:42:24.765284Z",
     "shell.execute_reply": "2021-11-23T19:42:24.764783Z",
     "shell.execute_reply.started": "2021-11-23T19:42:16.269606Z"
    },
    "tags": []
   },
   "outputs": [],
   "source": [
    "def apply_find_items_w_price(ast):\n",
    "    res = []\n",
    "    find_items_with_price(ast, res)\n",
    "    return res\n",
    "\n",
    "data_full['pitems'] = data_full['ast'].apply(apply_find_items_w_price)"
   ]
  },
  {
   "cell_type": "code",
   "execution_count": 15,
   "id": "56739c4c-3cb5-42ab-a5d9-45cc57f11cf1",
   "metadata": {
    "execution": {
     "iopub.execute_input": "2021-11-23T19:42:24.766073Z",
     "iopub.status.busy": "2021-11-23T19:42:24.765961Z",
     "iopub.status.idle": "2021-11-23T19:42:25.452261Z",
     "shell.execute_reply": "2021-11-23T19:42:25.451747Z",
     "shell.execute_reply.started": "2021-11-23T19:42:24.766061Z"
    },
    "tags": []
   },
   "outputs": [
    {
     "name": "stdout",
     "output_type": "stream",
     "text": [
      "text='SA Granite : Both sets (ortho and TKL) have not been used. Base kit € 50, ortho kit € 30. Will bundle them for € 70' striked=False\n",
      "\n",
      "[PriceTag(currency=<Currency.EUR: 'EUR'>, amount=50.0, striked=False), PriceTag(currency=<Currency.EUR: 'EUR'>, amount=30.0, striked=False), PriceTag(currency=<Currency.EUR: 'EUR'>, amount=70.0, striked=False)]\n",
      "\n",
      "\n",
      "text='Walnut case for Anne Pro 2 EUR 45,5/USD 55' striked=False\n",
      "\n",
      "[PriceTag(currency=<Currency.EUR: 'EUR'>, amount=45.5, striked=False), PriceTag(currency=<Currency.EUR: 'EUR'>, amount=2.0, striked=False), PriceTag(currency=<Currency.USD: 'USD'>, amount=55.0, striked=False)]\n",
      "\n",
      "\n",
      "text=\"All Lividity puppeteers will be 60 USD (normally 78ish), that's 840 USD total for the 14, but you can take the lot for a discounted 700 USD or will consider trades towards Glyco caps or Badlucks, and jAnuses specifically.\" striked=False\n",
      "\n",
      "[PriceTag(currency=<Currency.USD: 'USD'>, amount=60.0, striked=False), PriceTag(currency=<Currency.USD: 'USD'>, amount=840.0, striked=False), PriceTag(currency=<Currency.USD: 'USD'>, amount=700.0, striked=False)]\n",
      "\n",
      "\n",
      "text='NK65EE Purple - $210 + shipping (full board) $100 + shipping (board only) $150 + shipping (board + switches)' striked=True\n",
      "\n",
      "[PriceTag(currency=None, amount=210.0, striked=True), PriceTag(currency=None, amount=100.0, striked=True), PriceTag(currency=None, amount=150.0, striked=True)]\n",
      "\n",
      "\n",
      "text=\"SA Granite : Brand new, base 'text' kit and ortholinear kit, can be sold seperataly. Base € 59, Ortho € 39. Bundled for € 75\" striked=False\n",
      "\n",
      "[PriceTag(currency=<Currency.EUR: 'EUR'>, amount=59.0, striked=False), PriceTag(currency=<Currency.EUR: 'EUR'>, amount=39.0, striked=False), PriceTag(currency=<Currency.EUR: 'EUR'>, amount=75.0, striked=False)]\n",
      "\n",
      "\n",
      "children=[Text(text='Melonkeys Taro Dark Magician (comes with ID) - $250 + shipping (OBO)', striked=False), Text(text='Gothcaps Pastel Princess - $100 + shipping (OBO)', striked=False), Text(text='Primecaps ESC- $70 + shipping (OBO)', striked=False)] type='TextAst'\n",
      "\n",
      "[PriceTag(currency=None, amount=250.0, striked=False), PriceTag(currency=None, amount=100.0, striked=False), PriceTag(currency=None, amount=70.0, striked=False)]\n",
      "\n",
      "\n",
      "children=[Text(text='CYSM Keyby', striked=False), Text(text='[Alfa Rioga]', striked=False), Text(text='- $230 shipped', striked=False), Text(text='Nightcaps Eggface V2', striked=False), Text(text='[Secret Admirer]', striked=False), Text(text='- $110 shipped (color shift shown in album)', striked=False), Text(text='Lividity Observer', striked=False), Text(text='[Caesar]', striked=False), Text(text='- $85 shipped', striked=False)] type='TextAst'\n",
      "\n",
      "[PriceTag(currency=None, amount=230.0, striked=False), PriceTag(currency=None, amount=110.0, striked=False), PriceTag(currency=None, amount=85.0, striked=False)]\n",
      "\n",
      "\n",
      "children=[Text(text='GMK Kaiju + Novelties - 340 euro', striked=False), Text(text='GMK Hennessey ( BoW like GMK Minimal but with lowercase mods) - 190 euro', striked=False), Text(text='GMK Laser - 180 euro', striked=False)] type='TextAst'\n",
      "\n",
      "[PriceTag(currency=<Currency.EUR: 'EUR'>, amount=340.0, striked=False), PriceTag(currency=<Currency.EUR: 'EUR'>, amount=190.0, striked=False), PriceTag(currency=<Currency.EUR: 'EUR'>, amount=180.0, striked=False)]\n",
      "\n",
      "\n",
      "children=[Text(text='SA Mizu Brand New Unopened - $240 Shipped', striked=False), Text(text='SA Mizu White Rama Unopened - $85 Shipped', striked=False), Text(text='SA Mizu Bundle - $300 Shipped', striked=False)] type='TextAst'\n",
      "\n",
      "[PriceTag(currency=None, amount=240.0, striked=False), PriceTag(currency=None, amount=85.0, striked=False), PriceTag(currency=None, amount=300.0, striked=False)]\n",
      "\n",
      "\n",
      "children=[Text(text='Tim Caps Jack O Devlish- $60 Shipped', striked=False), Text(text='Boo Keyriboh v2 - $60 Shipped', striked=False), Text(text='Bundle Both Boo + Tim Caps - $100 Shipped', striked=False)] type='TextAst'\n",
      "\n",
      "[PriceTag(currency=None, amount=60.0, striked=False), PriceTag(currency=None, amount=60.0, striked=False), PriceTag(currency=None, amount=100.0, striked=False)]\n",
      "\n",
      "\n"
     ]
    }
   ],
   "source": [
    "for pitems in data_full['pitems']:\n",
    "    for pitem in pitems:\n",
    "        prices = find_in_tree(find_prices_in_text)(pitem)\n",
    "        if len(prices) == 3:\n",
    "            print(pitem)\n",
    "            print()\n",
    "            print(prices)\n",
    "            print()\n",
    "            print()"
   ]
  },
  {
   "cell_type": "code",
   "execution_count": null,
   "id": "8a85cc47-67ed-4b27-a977-2c133e726b6e",
   "metadata": {},
   "outputs": [],
   "source": []
  }
 ],
 "metadata": {
  "kernelspec": {
   "display_name": "Python 3 (ipykernel)",
   "language": "python",
   "name": "python3"
  },
  "language_info": {
   "codemirror_mode": {
    "name": "ipython",
    "version": 3
   },
   "file_extension": ".py",
   "mimetype": "text/x-python",
   "name": "python",
   "nbconvert_exporter": "python",
   "pygments_lexer": "ipython3",
   "version": "3.9.9"
  }
 },
 "nbformat": 4,
 "nbformat_minor": 5
}
